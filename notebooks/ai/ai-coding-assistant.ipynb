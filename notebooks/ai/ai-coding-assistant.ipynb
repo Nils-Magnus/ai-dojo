{
 "cells": [
  {
   "cell_type": "markdown",
   "metadata": {},
   "source": [
    "# AI Coding Assistants: How they work\n"
   ]
  },
  {
   "cell_type": "markdown",
   "metadata": {},
   "source": [
    "<img src=\"https://miro.medium.com/max/1200/1*ql9eNx9qqVHHxpvQfv8MgQ.gif\" width=900 />\n",
    "<br>\n",
    "<i>Source: <a href=\"https://towardsdatascience.com/some-experiments-using-github-copilot-with-python-90f8065fb72e\">Some Experiments using GitHub Copilot with Python</a></i>"
   ]
  },
  {
   "cell_type": "markdown",
   "metadata": {},
   "source": [
    "AI Coding Assistants are entering the market:\n",
    "\n",
    "- [*GitHub Copilot*](https://github.com/features/copilot/)\n",
    "- [*tabnine*](https://www.tabnine.com)\n",
    "- [*codiga*](https://www.codiga.io)\n",
    "- ..."
   ]
  },
  {
   "cell_type": "markdown",
   "metadata": {},
   "source": [
    "## What powers GitHub Copilot?\n",
    "\n",
    "The machinery behind GitHub Copilot is [**OpenAI Codex**](https://openai.com/blog/openai-codex/), a large language model trained on source code. \n",
    "\n",
    "- OpenAI codex is a descendant of [**GPT-3**](https://en.wikipedia.org/wiki/OpenAI#GPT-3), a large language model trained on natural language text from the web.\n",
    "- The model is trained on 1.5 billion lines of code from GitHub\n",
    "- OpenAI Codex has much of the natural language understanding of GPT-3, but it produces working code\n"
   ]
  },
  {
   "cell_type": "markdown",
   "metadata": {},
   "source": [
    "### Code Quality"
   ]
  },
  {
   "cell_type": "markdown",
   "metadata": {},
   "source": [
    "## Introducing Large Language Models (e.g. GPT)\n",
    "\n",
    "GPT is a language model. It is based on the Transformer architecture. The model was trained on a large corpus of code snippets and can be used to generate code snippets. \n",
    "\n",
    "**What is a language model?**\n",
    "\n",
    "Language models have a large variety of use cases:\n",
    "- text generation\n",
    "- text classification\n",
    "- text summarization\n",
    "- question answering\n",
    "- machine translation\n",
    "- **speech recognition**: Recorded speech can be ambiguous. A language model can help to disambiguate the speech by predicting the most likely sequence of words, given what was said before.\n",
    "\n",
    "\n",
    "A language model has learned a **probability distribution** over sequences of words.\n",
    "\n",
    "\n",
    "![](https://jalammar.github.io/images/xlnet/gpt-2-autoregression-2.gif)\n",
    "_Source: [The Illustrated GPT-2 (Visualizing Transformer Language Models)](https://jalammar.github.io/illustrated-gpt2/)_\n",
    "\n"
   ]
  },
  {
   "cell_type": "markdown",
   "metadata": {},
   "source": [
    "![](https://miro.medium.com/max/582/1*C-KNWQC_wXh-Q2wc6VPK1g.png)\n",
    "<br>\n",
    "_Source: [GPT-3: The New Mighty Language Model from OpenAI](https://towardsdatascience.com/gpt-3-the-new-mighty-language-model-from-openai-a74ff35346fc)_"
   ]
  },
  {
   "cell_type": "markdown",
   "metadata": {},
   "source": [
    "### The Evolution of Sequence Learning Models\n",
    "\n"
   ]
  },
  {
   "cell_type": "markdown",
   "metadata": {},
   "source": [
    "### References\n",
    "\n",
    "- [The Illustrated GPT-2 (Visualizing Transformer Language Models)\n",
    "](https://jalammar.github.io/illustrated-gpt2/)"
   ]
  },
  {
   "cell_type": "markdown",
   "metadata": {},
   "source": [
    "---\n",
    "_This notebook is licensed under a [Creative Commons Attribution-NonCommercial-ShareAlike 4.0 International (CC BY-NC-SA 4.0)](https://creativecommons.org/licenses/by-nc-sa/4.0/). Copyright © 2022 [Christian Staudt](https://clstaudt.me)_"
   ]
  }
 ],
 "metadata": {
  "kernelspec": {
   "display_name": "Python 3.10.6 ('ai-training')",
   "language": "python",
   "name": "python3"
  },
  "language_info": {
   "codemirror_mode": {
    "name": "ipython",
    "version": 3
   },
   "file_extension": ".py",
   "mimetype": "text/x-python",
   "name": "python",
   "nbconvert_exporter": "python",
   "pygments_lexer": "ipython3",
   "version": "3.10.6"
  },
  "orig_nbformat": 4,
  "vscode": {
   "interpreter": {
    "hash": "8230f8769c668c567fa0bfc92e1f33442249cb35a608457cf81f184d81994cb2"
   }
  }
 },
 "nbformat": 4,
 "nbformat_minor": 2
}
