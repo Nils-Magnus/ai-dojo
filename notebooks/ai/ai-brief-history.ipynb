{
 "cells": [
  {
   "cell_type": "markdown",
   "metadata": {
    "slideshow": {
     "slide_type": "slide"
    },
    "tags": []
   },
   "source": [
    "# Artificial Intelligence: A Very Brief History \n",
    "\n",
    "<img src=\"../graphics/artwork/artificial_intelligence.png\" width=\"600\">\n",
    "<i>artificial intelligence</i>, by midjourney.com"
   ]
  },
  {
   "cell_type": "markdown",
   "metadata": {},
   "source": [
    "- history of AI\n",
    "- symbolic vs. connectionist AI\n",
    "- AI winters\n",
    "- ImageNet competition - breakthrough NN AlexNet\n",
    "- current AI summer: number of papers exploding, companies...\n",
    "- many modes of AI\n",
    "- AlphaGo: reinforcement learning\n",
    "- Generative Models: GANs, Stable Diffusion, \n",
    "  - 2015 generated faces"
   ]
  },
  {
   "cell_type": "markdown",
   "metadata": {
    "slideshow": {
     "slide_type": "slide"
    },
    "tags": []
   },
   "source": [
    "## AI is as old as Computing\n",
    "\n",
    "<img class=\"left\" src=\"https://upload.wikimedia.org/wikipedia/commons/thumb/7/79/Alan_Turing_az_1930-as_években.jpg/186px-Alan_Turing_az_1930-as_években.jpg\" />\n",
    "\n",
    "We can start both the history of computer science and the history of AI with _Alan Turing_, mathematician (**1912 - 1954**)"
   ]
  },
  {
   "cell_type": "markdown",
   "metadata": {
    "slideshow": {
     "slide_type": "slide"
    },
    "tags": []
   },
   "source": [
    "\n",
    "<img class=\"left\" src=\"https://web.mit.edu/manoli/turing/www/turing.gif\" />\n",
    "\n",
    "- **1936**: Turing defines computation by describing the first mathematical model of a computer: The Turing machine\n",
    "    - every known computer to this day is essentially a Turing machine"
   ]
  },
  {
   "cell_type": "markdown",
   "metadata": {
    "slideshow": {
     "slide_type": "slide"
    },
    "tags": []
   },
   "source": [
    "- **1950**: Alan Turing proposes a test to reason about the question 'Can machines think?':\n",
    "    - An interviewer communicates via text with an opponent in another room \n",
    "    - Can the interviewer determine whether the opponent is a computer or a person?\n",
    "    - If the interviewer classifies a computer as a person, the computer program is said to pass the Turing Test.\n",
    "    \n",
    "<center>\n",
    "    <img src=\"https://upload.wikimedia.org/wikipedia/commons/5/55/Turing_test_diagram.png\" />\n",
    "    <tiny><i>Source: Wikimedia Commons</i></tiny>\n",
    "</center>\n"
   ]
  },
  {
   "cell_type": "markdown",
   "metadata": {
    "slideshow": {
     "slide_type": "slide"
    },
    "tags": []
   },
   "source": [
    "<img src=\"https://imgs.xkcd.com/comics/turing_test.png\" />\n",
    "<i>Source: xkcd.com</i>\n"
   ]
  },
  {
   "cell_type": "markdown",
   "metadata": {},
   "source": [
    "## Great Expectations"
   ]
  },
  {
   "cell_type": "markdown",
   "metadata": {},
   "source": [
    "## Winter is Coming\n"
   ]
  },
  {
   "cell_type": "markdown",
   "metadata": {
    "slideshow": {
     "slide_type": "slide"
    },
    "tags": []
   },
   "source": [
    "## Summer is Coming"
   ]
  },
  {
   "cell_type": "markdown",
   "metadata": {},
   "source": [
    "## Symbolic AI / \"Good old-fashioned AI\"\n",
    "\n"
   ]
  },
  {
   "cell_type": "markdown",
   "metadata": {},
   "source": [
    "## Neural Networks Return\n",
    "\n",
    "- **1989**: _LeNet_, an early _Convolutional Neural Network_, is used to read hand written numbers for the US Postal Service \n",
    "\n",
    "![](https://www.researchgate.net/profile/Marco-Wiering/publication/331152942/figure/fig1/AS:726948993044481@1550329554898/Images-generated-by-different-GAN-architectures-trained-on-MNIST-1-and-MNIST-2-The.ppm)"
   ]
  },
  {
   "cell_type": "markdown",
   "metadata": {},
   "source": [
    "## DeepBlue: A Win for Good Old-fashioned AI\n",
    "\n",
    "> **1997**: _Deep Blue_ beats the world chess champion Garry Kasparovm\n",
    " \n",
    "- IBM's _Deep Blue_: a system specialized on chess running on a custom  supercomputer\n",
    "    - with a computing power of about 30% of a modern smartphone\n",
    "    - an _expert system_ that used rules defined by human experts to evaluate the game state (not machine learning)\n",
    "\n",
    "<img width=\"800\" src=\"https://media-cldnry.s-nbcnews.com/image/upload/t_nbcnews-ux-2880-1000,f_auto,q_auto:best/newscms/2014_43/725586/141020-kasparov-deep-blue-tv-225p.jpg\" /><br>\n",
    "<i>Source: NBC News</i>"
   ]
  },
  {
   "cell_type": "markdown",
   "metadata": {},
   "source": [
    "## The AI Effect\n",
    "\n",
    "> \"\"It's part of the history of the field of artificial intelligence that every time somebody figured out how to make a computer do something [...] there was a chorus of critics to say, 'that's not thinking'.\" - Pamela McCorduck, journalist\n",
    "\n",
    "> \"AI is whatever hasn't been done yet.\" - Larry Tesler, computer scientist\n",
    "\n",
    "Things formerly considered AI and now considered \"just\" software:\n",
    "- chess computer\n",
    "- handwriting recognition\n",
    "- speech-to-text dictation\n",
    "- ...\n"
   ]
  },
  {
   "cell_type": "markdown",
   "metadata": {},
   "source": [
    "## Deep Neural Networks Break Through\n",
    "\n",
    "- **2012**: _AlexNet_, a convolutional neural network, wins the _ImageNet_ computer vision challenge by a large margin\n",
    "    - _ImageNet_: a large set of annotated photos for visual object recognition - here: 1000 different classes of objects\n",
    "\n",
    "![](https://upload.wikimedia.org/wikipedia/commons/thumb/c/cc/Comparison_image_neural_networks.svg/512px-Comparison_image_neural_networks.svg.png)"
   ]
  },
  {
   "cell_type": "markdown",
   "metadata": {},
   "source": [
    "## AlphaGo: A Win for Deep Learning\n",
    "\n",
    "> **2015**: _AlphaGo_ beats the world Go champion Lee Sedol\n",
    "\n",
    "- _AlphaGo_ is based on a _deep convolutional neural network_ trained with _reinforcement learning_\n",
    "    - _reinforcement learning_: a machine learning technique that learns to perform a task by trial and error and collecting rewards\n",
    "    - trained both on human games and on playing against itself\n",
    "\n",
    "\n",
    "<img width=600 src=\"https://cdn.vox-cdn.com/thumbor/Xmx3UUsQLX1J4FPe2wPIV7w_gS0=/0x0:1200x800/1200x800/filters:focal(550x246:742x438)/cdn.vox-cdn.com/uploads/chorus_image/image/57104389/515358446.0.jpg\"><br>\n",
    "<i>Source: theverge.com</i>"
   ]
  },
  {
   "cell_type": "markdown",
   "metadata": {},
   "source": [
    "## Reinforcement Learning Wins Not Just In Games\n",
    "\n",
    "> **2020** _AlphaFold 2_ excels at protein folding\n",
    "\n",
    "- _protein folding_: for a sequence of amnio acids, predict its 3D structure when folded into a protein, which determines its function in the cell\n",
    "\n"
   ]
  },
  {
   "cell_type": "markdown",
   "metadata": {},
   "source": []
  },
  {
   "cell_type": "markdown",
   "metadata": {},
   "source": [
    "## Can AI Create Art?\n",
    "\n",
    "> **2015**: _Generative Adversarial Networks_ (GANs) are introduced\n",
    "\n",
    "> **2021**: _DALL-E_ is introduced\n",
    "> \n",
    "> **2022**: _Stable Diffusion_ is introduced"
   ]
  },
  {
   "cell_type": "markdown",
   "metadata": {},
   "source": [
    "## Success Factors for AI\n",
    "\n",
    "- **Data**: \n",
    "- **Hardware**: \n",
    "- **Algorithms**: \n"
   ]
  },
  {
   "cell_type": "markdown",
   "metadata": {},
   "source": [
    "### References\n"
   ]
  },
  {
   "cell_type": "markdown",
   "metadata": {},
   "source": [
    "---\n",
    "_This notebook is licensed under a [Creative Commons Attribution-NonCommercial-ShareAlike 4.0 International (CC BY-NC-SA 4.0)](https://creativecommons.org/licenses/by-nc-sa/4.0/). Copyright © 2022 [Christian Staudt](https://clstaudt.me)_"
   ]
  }
 ],
 "metadata": {
  "kernelspec": {
   "display_name": "Python 3 (ipykernel)",
   "language": "python",
   "name": "python3"
  },
  "language_info": {
   "codemirror_mode": {
    "name": "ipython",
    "version": 3
   },
   "file_extension": ".py",
   "mimetype": "text/x-python",
   "name": "python",
   "nbconvert_exporter": "python",
   "pygments_lexer": "ipython3",
   "version": "3.9.10"
  },
  "vscode": {
   "interpreter": {
    "hash": "8230f8769c668c567fa0bfc92e1f33442249cb35a608457cf81f184d81994cb2"
   }
  }
 },
 "nbformat": 4,
 "nbformat_minor": 4
}
