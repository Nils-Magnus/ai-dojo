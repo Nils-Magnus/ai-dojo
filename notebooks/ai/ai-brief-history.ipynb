{
 "cells": [
  {
   "cell_type": "markdown",
   "metadata": {},
   "source": [
    "# Artificial Intelligence: A Very Brief History \n"
   ]
  },
  {
   "cell_type": "markdown",
   "metadata": {},
   "source": [
    "- history of AI\n",
    "- symbolic vs. connectionist AI\n",
    "- AI winters\n",
    "- ImageNet competition - breakthrough NN AlexNet\n",
    "- current AI summer: number of papers exploding, companies...\n",
    "- many modes of AI\n",
    "- AlphaGo: reinforcement learning\n",
    "- Generative Models: GANs, Stable Diffusion, \n",
    "  - 2015 generated faces\n"
   ]
  },
  {
   "cell_type": "markdown",
   "metadata": {},
   "source": [
    "### References\n"
   ]
  },
  {
   "cell_type": "markdown",
   "metadata": {},
   "source": [
    "---\n",
    "_This notebook is licensed under a [Creative Commons Attribution-NonCommercial-ShareAlike 4.0 International (CC BY-NC-SA 4.0)](https://creativecommons.org/licenses/by-nc-sa/4.0/). Copyright © 2022 [Christian Staudt](https://clstaudt.me)_"
   ]
  }
 ],
 "metadata": {
  "kernelspec": {
   "display_name": "Python 3.10.6 ('ai-training')",
   "language": "python",
   "name": "python3"
  },
  "language_info": {
   "codemirror_mode": {
    "name": "ipython",
    "version": 3
   },
   "file_extension": ".py",
   "mimetype": "text/x-python",
   "name": "python",
   "nbconvert_exporter": "python",
   "pygments_lexer": "ipython3",
   "version": "3.10.6"
  },
  "orig_nbformat": 4,
  "vscode": {
   "interpreter": {
    "hash": "8230f8769c668c567fa0bfc92e1f33442249cb35a608457cf81f184d81994cb2"
   }
  }
 },
 "nbformat": 4,
 "nbformat_minor": 2
}
