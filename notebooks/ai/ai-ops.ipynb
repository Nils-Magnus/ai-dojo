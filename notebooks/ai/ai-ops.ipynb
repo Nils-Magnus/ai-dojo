{
 "cells": [
  {
   "cell_type": "markdown",
   "id": "8ed18502",
   "metadata": {},
   "source": [
    "# AIOps: The Next Step in IT Operations?\n",
    "\n",
    "<img src=\"graphics/artwork/ai-cloud.png\" width=400 />"
   ]
  },
  {
   "cell_type": "markdown",
   "id": "48b47df9",
   "metadata": {},
   "source": [
    "So, what could usage of AI look like in IT operations? Let's have a look at what others are doing! And let's start with the security-related use cases, because this is where ML/AI seems to have made the most impact."
   ]
  },
  {
   "cell_type": "markdown",
   "id": "5af9ad71",
   "metadata": {},
   "source": [
    "### Detecting bots"
   ]
  },
  {
   "cell_type": "markdown",
   "id": "1a87dc4e",
   "metadata": {},
   "source": [
    "Cloudflare are using machine learning (as well as rule-based systems) to quickly identify various kinds of bot behavior:\n",
    "\n",
    "\n",
    "<center>\n",
    "    <img src=\"graphics/cloudflare.png\" width=\"600\">\n",
    "    <tiny><i>Source: <a href=\"https://blog.cloudflare.com/cloudflare-bot-management-machine-learning-and-more\">https://blog.cloudflare.com/cloudflare-bot-management-machine-learning-and-more</a></i></tiny>\n",
    "</center>\n",
    "\n",
    "\n",
    "Each request is assigned a __bot score__. Customers can use special firewall rules to block traffic for specific attack types and set score thresholds."
   ]
  },
  {
   "cell_type": "markdown",
   "id": "9daef5e9",
   "metadata": {},
   "source": [
    "Cloudflare modelled this problem as a __supervised regression__ problem. As training data they (automatically, one might assume) labeled 660 billion requests with a 'bot score' ranging from 0 to 100.\n",
    "They then trained a boosted __decision tree__ model on the data. (Details: [https://blog.cloudflare.com/stop-the-bots-practical-lessons-in-machine-learning/](https://blog.cloudflare.com/stop-the-bots-practical-lessons-in-machine-learning/))"
   ]
  },
  {
   "cell_type": "markdown",
   "id": "dcf4af7a",
   "metadata": {},
   "source": [
    "### Automatically identifying security risks in source code\n",
    "\n",
    "Remember that study we mentioned earlier, that shows that users of coding assistants are more prone to writing insecure code? What if these tools were more tuned towards generating nice, secure code and warned users when they are writing insecure code?\n",
    "\n",
    "Redhat has a research study out that shows how something like this could look like: \n",
    "\n",
    "<center>\n",
    "    <br/>\n",
    "    <img src=\"graphics/sql_injection.png\" width=\"600\">\n",
    "    <tiny><i>Source: <a href=\"https://research.redhat.com/wp-content/uploads/2022/09/15-AI-for-Cloud-Ops.pdf\">https://research.redhat.com/wp-content/uploads/2022/09/15-AI-for-Cloud-Ops.pdf</a></i></tiny>\n",
    "</center>\n",
    "\n",
    "To integrate such a feature into Github Copilot or other coding assistants, a major part of the effort would likely be to improve the __training data__ of these __language models__, e.g. by flagging or excluding insecure code.\n"
   ]
  },
  {
   "cell_type": "markdown",
   "id": "9d93e973",
   "metadata": {},
   "source": [
    "### Intrusion detection\n",
    "\n",
    "If users in a distributed system are suddenly exhibiting unusual patterns, maybe we are not actually dealing with the real user, but with an intruder? The following paper shows how to train a machine learning model on access logs (in this case specifically LDAP logs):\n",
    "\n",
    "<center>\n",
    "    <img src=\"graphics/intrusion1.png\" width=\"600\">\n",
    "    <img src=\"graphics/intrusion2.png\" width=\"600\"> <img src=\"graphics/intrusion3.png\" width=\"600\">\n",
    "    <tiny><i>Source: <a href=\"https://arxiv.org/pdf/1803.04967.pdf\">https://arxiv.org/pdf/1803.04967.pdf</a></i></tiny>\n",
    "</center>\n",
    "\n",
    "The authors consider each line in the logfile a __sequence__ of tokens and train a __language model__ on the data. They then use this model to flag unusual patterns (e.g. user logging in to an unexpected machine) using __anomaly detection__ methods. \n",
    "\n",
    "This paper is a very simple example of what could be possible with training language models on logfiles."
   ]
  },
  {
   "cell_type": "markdown",
   "id": "9a696b70",
   "metadata": {},
   "source": [
    "### Demand prediction / auto-scaling\n",
    "\n",
    "Today's auto-scaling solutions are typically rule-based, e.g. \"start a new machine if load on the current machines is larger than 80%\". With machine learning, we might be able to capture instead fine-grained usage patterns, similar to what we can do with electricity usage:\n",
    "\n",
    "<center>\n",
    "    <img src=\"graphics/kettles.png\" width=\"600\">\n",
    "    <tiny><i>Source: BBC / <a href=\"https://www.youtube.com/watch?v=slDAvewWfrA\">https://www.youtube.com/watch?v=slDAvewWfrA<a/></i></tiny>\n",
    "</center>\n",
    "\n",
    "Such a system performs __demand prediction__ or __anamoly detection__ on __time series__ data."
   ]
  },
  {
   "cell_type": "markdown",
   "id": "f6c1cb09",
   "metadata": {},
   "source": [
    "### Help desk automation"
   ]
  },
  {
   "cell_type": "markdown",
   "id": "a79e5f40",
   "metadata": {},
   "source": [
    "Help desk automation is already so common that you can buy it as a product from several different companies, e.g.:\n",
    "\n",
    "<center>\n",
    "    <br>\n",
    "    <img src=\"graphics/helpdesk.png\" width=\"600\">\n",
    "    <tiny><i>Source: <a href=\"https://www.helpdesk.com/automated-help-desk\">https://www.helpdesk.com/automated-help-desk</a></i></tiny>\n",
    "</center>\n",
    "\n",
    "One main approach for help desk automation is to use a __language model__ to __classify__ the topic of the user request and direct it to the correct team or even answer automatically."
   ]
  },
  {
   "cell_type": "markdown",
   "id": "7090f963",
   "metadata": {},
   "source": [
    "### Less noisy alerting systems\n",
    "\n",
    "Not every alert is worth getting up for. We have seen several research papers that talk about de-duplicating alerts and separating real alerts from all the background noise in logs and usage metrics. \n",
    "\n",
    "<center>\n",
    "    <img src=\"graphics/sleeping.png\" width=\"600\">\n",
    "    <tiny><i>(CC0)</i></tiny>\n",
    "</center>\n",
    "\n",
    "There is quite a broad range of possible data modalities (log data, metrics in form of time series data) as well as kinds of models (__supervised__, __anomaly detection__, ...) possible here. As always, finding the right solution depends on your exact use case and the available data."
   ]
  },
  {
   "cell_type": "markdown",
   "id": "396e2edd",
   "metadata": {},
   "source": [
    "## Discussion\n",
    "\n",
    "AI in IT operations / cloud operations uses standard methods e.g. __classification__, __clustering__, __anomaly detection__ and standard models e.g. __language models__, __time series models__. An important step when building any AI/ML-enabled system is to frame the problem so that it can be solved by these methods using the data you have available.\n",
    "\n",
    "In your day-to-day work, which of these use cases would be most relevant? For which would you have suitable training data?\n",
    "\n",
    "* Detecting bots / attacks\n",
    "* Identifying security risks\n",
    "* Intrusion detection\n",
    "* Demand prediction / auto-scaling\n",
    "* Help-desk automation\n",
    "* Less noisy alerts\n",
    "* Something else entirely?"
   ]
  },
  {
   "cell_type": "code",
   "execution_count": null,
   "id": "ba43f656",
   "metadata": {},
   "outputs": [],
   "source": []
  }
 ],
 "metadata": {
  "kernelspec": {
   "display_name": "Python 3.9.12 64-bit ('3.9.12')",
   "language": "python",
   "name": "python3"
  },
  "language_info": {
   "codemirror_mode": {
    "name": "ipython",
    "version": 3
   },
   "file_extension": ".py",
   "mimetype": "text/x-python",
   "name": "python",
   "nbconvert_exporter": "python",
   "pygments_lexer": "ipython3",
   "version": "3.9.12"
  },
  "vscode": {
   "interpreter": {
    "hash": "1c25c2e7d73e213df51ffbfcb08ceaad8ee37db924542e185167163de1c97213"
   }
  }
 },
 "nbformat": 4,
 "nbformat_minor": 5
}
