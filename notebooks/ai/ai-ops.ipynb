{
 "cells": [
  {
   "cell_type": "markdown",
   "id": "8ed18502",
   "metadata": {},
   "source": [
    "# AIOps: The Next Step in IT Operations?"
   ]
  },
  {
   "cell_type": "markdown",
   "id": "48b47df9",
   "metadata": {},
   "source": [
    "For inspiration, let's look at some current developments\n",
    "\n",
    "(A lot of these are (no surprise) security related)"
   ]
  },
  {
   "cell_type": "markdown",
   "id": "5af9ad71",
   "metadata": {},
   "source": [
    "### Detecting attacks"
   ]
  },
  {
   "cell_type": "markdown",
   "id": "1a87dc4e",
   "metadata": {},
   "source": [
    "<center>\n",
    "    <img src=\"graphics/cloudflare.png\" width=\"600\">\n",
    "    <tiny><i>Source: https://blog.cloudflare.com/cloudflare-bot-management-machine-learning-and-more/</i></tiny>\n",
    "</center>\n"
   ]
  },
  {
   "cell_type": "markdown",
   "id": "fd7b3a43",
   "metadata": {},
   "source": [
    "Can be modelled as a __supervised classification__ problem\n",
    "\n",
    "* Training data contains historic traffic data (e.g. HTTP access logs)\n",
    "* Both standard (benign) as well as attack traffic\n",
    "* Traffic needs to be labeled as such\n",
    "\n",
    "-> Train model to distinguish between benign and attack traffic"
   ]
  },
  {
   "cell_type": "markdown",
   "id": "7b6209d4",
   "metadata": {},
   "source": [
    "Can also be modelled as an __unsupervised__ problem\n",
    "\n",
    "Remember, unsupervised learning can be useful if you do not have labelled data. Here: identify clusters of traffic patterns, label clusters as benign or attack, for new traffic find nearest clusters."
   ]
  },
  {
   "cell_type": "markdown",
   "id": "dcf4af7a",
   "metadata": {},
   "source": [
    "### Automatically identifying security risks in source code\n",
    "\n",
    "What if Github Copilot and similar tools also warned users when they are writing insecure code?\n",
    "\n",
    "Using one of the __language models__ introduced earlier.\n",
    "\n",
    "\n",
    "<center>\n",
    "    <img src=\"graphics/sql_injection.png\" width=\"600\">\n",
    "    <tiny><i>Source: https://research.redhat.com/wp-content/uploads/2022/09/15-AI-for-Cloud-Ops.pdf/</i></tiny>\n",
    "</center>\n",
    "\n"
   ]
  },
  {
   "cell_type": "markdown",
   "id": "9d93e973",
   "metadata": {},
   "source": [
    "### Intrusion detection\n",
    "\n",
    "<center>\n",
    "    <img src=\"graphics/intrusion1.png\" width=\"600\">\n",
    "    <img src=\"graphics/intrusion2.png\" width=\"600\"> <img src=\"graphics/intrusion3.png\" width=\"600\">\n",
    "    <tiny><i>Source: https://arxiv.org/pdf/1803.04967.pdf/</i></tiny>\n",
    "</center>\n",
    "\n",
    "\n",
    "Train __language model__ on internal logs (in this case: LDAP logs). Model encodes typical access patterns and can flag unusal patterns (using __anomaly detection__ methods, to be discussed)"
   ]
  },
  {
   "cell_type": "markdown",
   "id": "9a696b70",
   "metadata": {},
   "source": [
    "### Auto-scaling\n",
    "\n",
    "Anticipate traffic spikes. Similar to predecting electricity usage.\n",
    "\n",
    "\n",
    "<center>\n",
    "    <img src=\"graphics/kettles.png\" width=\"600\">\n",
    "    <tiny><i>Source: BBC / https://www.youtube.com/watch?v=slDAvewWfrA</i></tiny>\n",
    "</center>\n",
    "\n",
    "Using __anomaly detection__ on __time series__ data\n"
   ]
  },
  {
   "cell_type": "markdown",
   "id": "7090f963",
   "metadata": {},
   "source": [
    "### Less noisy alerting systems\n",
    "\n",
    "No duplicate alerts, classify seriousness of the alerts\n",
    "\n",
    "<center>\n",
    "    <img src=\"graphics/sleeping.png\" width=\"600\">\n",
    "    <tiny><i>(CC0)</i></tiny>\n",
    "</center>\n",
    "\n",
    "todo: an actually relevant picture would be nice\n",
    "\n",
    "__clustering__ ?"
   ]
  },
  {
   "cell_type": "markdown",
   "id": "f6c1cb09",
   "metadata": {},
   "source": [
    "### Help desk automation"
   ]
  },
  {
   "cell_type": "markdown",
   "id": "a79e5f40",
   "metadata": {},
   "source": [
    "<center>\n",
    "    <img src=\"graphics/helpdesk.png\" width=\"600\">\n",
    "    <tiny><i>Source: https://www.helpdesk.com/automated-help-desk/</i></tiny>\n",
    "</center>\n",
    "\n",
    "Todo bild welches weniger werbung ist?\n",
    "\n",
    "Use __language model__ to __classify__ the topic of the user request and direct it to the correct team or even answer automatically."
   ]
  },
  {
   "cell_type": "markdown",
   "id": "396e2edd",
   "metadata": {},
   "source": [
    "## Takeaway\n",
    "\n",
    "AI in IT operations / cloud operations uses standard methods e.g. __classification__, __clustering__, __anomaly detection__ and standard models e.g. __language models__, __time series models__. Main work is to frame the problem so that it can be solved by these methods.\n",
    "\n",
    "As in all domains, promise is: smarter tooling, alleviate humans from boring/repetitive tasks, react faster.\n",
    "\n",
    "Now lets take some deeper look at __time series models__ and __anomaly detection__ because especially relevant in this domain."
   ]
  },
  {
   "cell_type": "code",
   "execution_count": null,
   "id": "ba43f656",
   "metadata": {},
   "outputs": [],
   "source": []
  }
 ],
 "metadata": {
  "kernelspec": {
   "display_name": "Python 3 (ipykernel)",
   "language": "python",
   "name": "python3"
  },
  "language_info": {
   "codemirror_mode": {
    "name": "ipython",
    "version": 3
   },
   "file_extension": ".py",
   "mimetype": "text/x-python",
   "name": "python",
   "nbconvert_exporter": "python",
   "pygments_lexer": "ipython3",
   "version": "3.8.0"
  }
 },
 "nbformat": 4,
 "nbformat_minor": 5
}
