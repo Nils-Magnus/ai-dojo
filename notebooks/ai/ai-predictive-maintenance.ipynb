{
 "cells": [
  {
   "cell_type": "markdown",
   "id": "a4e3fb04-e17b-48df-8aa9-03f8a35412a5",
   "metadata": {
    "slideshow": {
     "slide_type": "slide"
    },
    "tags": []
   },
   "source": [
    "# Predictive Maintenance"
   ]
  },
  {
   "cell_type": "markdown",
   "id": "d9f6da76-5bc1-4327-a5b3-72d69a8b0648",
   "metadata": {
    "tags": []
   },
   "source": [
    "<div>\n",
    "    <img src=\"graphics/predictive-maintenance.png\" width=500 /><br>\n",
    "    <i>predictive maintenance</i>, by midjourney.com\n",
    "</div>"
   ]
  },
  {
   "cell_type": "markdown",
   "id": "9ef50acd-06a1-4d5a-83e4-42c8e19b36c7",
   "metadata": {
    "slideshow": {
     "slide_type": "skip"
    },
    "tags": []
   },
   "source": [
    "## Preamble"
   ]
  },
  {
   "cell_type": "code",
   "execution_count": 1,
   "id": "ca97664a-eee5-472c-a0c2-4b22749290fc",
   "metadata": {
    "slideshow": {
     "slide_type": "skip"
    },
    "tags": []
   },
   "outputs": [],
   "source": [
    "import ai_dojo\n",
    "ai_dojo.setup_plot_style(dark=True)\n",
    "ai_dojo.setup_slide_style(theme=\"night\")"
   ]
  },
  {
   "cell_type": "markdown",
   "id": "cea4402c-f724-4684-afc6-1187a47ad35b",
   "metadata": {
    "slideshow": {
     "slide_type": "slide"
    }
   },
   "source": [
    "## What is Predictive Maintenance?\n",
    "\n",
    "### Types of Maintenance Scheduling\n",
    " \n",
    "- **Reactive** Maintenance - maintenance after the equipment has run into an error state\n",
    "- **Preventive** Maintenance - maintenance performed on a schedule, regardless of the condition of the equipment\n",
    "- **Predictive** Maintenance - maintenance performed based on the actual condition of the equipment\n",
    "\n",
    "_Discuss: What are the pros and cons of each type of maintenance?_"
   ]
  },
  {
   "cell_type": "markdown",
   "id": "81f58a0b",
   "metadata": {},
   "source": [
    "### Promise of Predictive Maintenance\n",
    "\n",
    "- **prevent unexpected failures**\n",
    "  - minimize downtime\n",
    "  - prevent damage to equipment\n",
    "  - ...\n",
    "- **reduce maintenance cost**\n",
    "  - perform maintenance just in time and only as often as necessary\n",
    "  - reduce downtime due to maintenance"
   ]
  },
  {
   "cell_type": "markdown",
   "id": "ec501232",
   "metadata": {},
   "source": [
    "## Predictive Maintenance via Machine Learning\n",
    "\n",
    "We know what we want to achieve with predictive maintenance - but how do we **map this to a machine learning problem**?\n",
    "\n",
    "_Discussion: What type of ML problem is it?_\n",
    "\n",
    "1. Predict whether a machine **will fail in** the next 24 hours\n",
    "2. Estimate the **remaining useful life** of a machine\n",
    "3. Detect whether a machine is in an **anomalous state**\n",
    "4. Predict when a parameter of a machine will exceed a **threshold value**\n"
   ]
  },
  {
   "cell_type": "markdown",
   "id": "c977671f",
   "metadata": {},
   "source": [
    "### Time Series Classification\n",
    "\n",
    "- task: predict a class label for a (segment of a ) time series\n",
    "\n",
    "![](../timeseries/graphics/mlts-time-series-classification.png)"
   ]
  },
  {
   "cell_type": "markdown",
   "id": "a4ecb113",
   "metadata": {},
   "source": [
    "### Time Series Forecasting\n",
    "\n",
    "- task: estimate a time series several steps into the future\n",
    "  - usually with an estimate of uncertainty\n",
    "  \n",
    "![](https://user-images.githubusercontent.com/8764683/62714615-c5c7c900-b9b3-11e9-9fda-eeabf6335d23.png)\n",
    "ℹ️: _[h1ros.github.io](https://h1ros.github.io/posts/prophet-101-a-time-series-forecasting-module/)_"
   ]
  },
  {
   "cell_type": "markdown",
   "id": "96de11a1",
   "metadata": {},
   "source": [
    "### Remaining Useful Life Estimation via Time Series Forecasting\n",
    "\n",
    "![](https://www.researchgate.net/profile/Oguz-Bektas/publication/317267762/figure/fig2/AS:651194288590848@1532268225421/Remaining-useful-life-multi-step-estimation.png)\n",
    "\n",
    "ℹ️: _[researchgate.net](https://www.researchgate.net/figure/Remaining-useful-life-multi-step-estimation_fig2_317267762)_"
   ]
  },
  {
   "cell_type": "markdown",
   "id": "80fbe609",
   "metadata": {},
   "source": [
    "### \n",
    "\n",
    "1. Predict whether a machine **will fail in** the next 24 hours\n",
    "   - **binary classification** problem \n",
    "   - methods e.g.:\n",
    "     - a classifier trained on labelled time series data \n",
    "     - ...\n",
    "2. Estimate the **remaining useful life** of a machine\n",
    "    - **regression** problem\n",
    "    - method e.g.:\n",
    "      - a regressor trained on labelled time series data\n",
    "      - a time series forecasting model predicting the time until a threshold value is exceeded\n",
    "      - ...\n",
    "\n",
    "1. Predict when a parameter of a machine will exceed a **threshold value**\n",
    "    - a **regression** problem\n",
    "    - methods e.g.\n",
    "      - a regressor trained on labelled time series data\n",
    "      - a time series forecasting model\n",
    "      - ... \n",
    "3. Detect whether a machine is in an **anomalous state**\n",
    "    - **anomaly detection** problem\n",
    "    - methods e.g.:\n",
    "      - a binary classifier trained on labelled data\n",
    "      - an estimator of an anomaly score \n",
    "      - an estimator based on the difference between a time series forecast and the actual series\n",
    "      - ..."
   ]
  },
  {
   "cell_type": "markdown",
   "id": "cd85f32d",
   "metadata": {},
   "source": [
    "## Predictive Maintenance Cases"
   ]
  },
  {
   "cell_type": "markdown",
   "id": "3db162d4",
   "metadata": {},
   "source": [
    "## Discussion: Predictive Maintenance in IT Operations\n",
    "\n",
    "_Discuss: Do you see cases for predictive maintenance in IT / cloud operations?_"
   ]
  },
  {
   "cell_type": "markdown",
   "id": "907df6ed-e251-4f2c-a8b9-6cce963ef0ba",
   "metadata": {},
   "source": [
    "---\n",
    "_This notebook is licensed under a [Creative Commons Attribution-NonCommercial-ShareAlike 4.0 International (CC BY-NC-SA 4.0)](https://creativecommons.org/licenses/by-nc-sa/4.0/). Copyright © 2022 [Christian Staudt](https://clstaudt.me)_"
   ]
  }
 ],
 "metadata": {
  "kernelspec": {
   "display_name": "ai-training",
   "language": "python",
   "name": "ai-training"
  },
  "language_info": {
   "codemirror_mode": {
    "name": "ipython",
    "version": 3
   },
   "file_extension": ".py",
   "mimetype": "text/x-python",
   "name": "python",
   "nbconvert_exporter": "python",
   "pygments_lexer": "ipython3",
   "version": "3.9.13"
  }
 },
 "nbformat": 4,
 "nbformat_minor": 5
}
