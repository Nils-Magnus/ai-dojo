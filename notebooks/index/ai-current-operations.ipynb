{
 "cells": [
  {
   "cell_type": "markdown",
   "metadata": {},
   "source": [
    "# Current Developments in AI & Steps towards AIOps\n",
    "\n",
    "In this course we focus on current developments in artificial intelligence, powered by machine learning. We will also take the steps towards AIOps, which is the application of AI to IT operations.\n"
   ]
  },
  {
   "cell_type": "markdown",
   "metadata": {},
   "source": [
    "### Introduction to Artificial Intelligence\n",
    "\n",
    "1. [**Artificial Intelligence: A Very Brief History**](../ai/ai-brief-history.ipynb)"
   ]
  },
  {
   "cell_type": "markdown",
   "metadata": {},
   "source": [
    "\n",
    "### Machine Learning\n",
    "\n",
    "1. [**Introduction to Machine Learning**](../ml/ml-outlook.ipynb)<br>\n",
    "    An overview of the field of machine learning.\n",
    "\n",
    "1. **[ML for Classification](../ml/ml-classification-intro.ipynb)**<br>\n",
    "      Learn about classifiers and how to measure the quality of their decisions.\n",
    "\n",
    "### Deep Learning with Neural Networks\n",
    "\n",
    "1. [**Why Deep Learning?**](../dl/dl-why.ipynb)<br>\n",
    "   Understanding the power of neural networks.\n",
    "\n",
    "2. [**Deep Learning Walkthrough**](../dl/dl-walkthrough.ipynb)<br>\n",
    "   Neural networks explained step by step.\n",
    "\n",
    "3. [**Image Classification with Convolutional Neural Networks**](../dl/dl-cnn-image-classification.ipynb)<br>\n",
    "   Applying convolutional architectures for image processing.\n",
    "\n",
    "   1. **[Exercise: Image Classification with Convolutional Neural Networks](../dl/dl-exercise-fashion-mnist.ipynb)**<br>\n",
    "      Try your hand at classifying images with a convolutional neural network.\n",
    "\n",
    "\n",
    "### Generative AI & Language Models\n",
    "\n",
    "1. [**AI Coding Assistants: How they work**](../ai/ai-coding-assistant.ipynb)<br>\n",
    "   What is behind the intelligence of GitHub Copilot and others?\n",
    "\n",
    "\n",
    "### Towards AIOps\n",
    "\n",
    "1. [**AIOps: The Next Step in IT Operations?**](../ai/ai-ops.ipynb)<br>\n",
    "   How AI could change the way we operate IT systems.\n",
    "\n",
    "1. [**Time Series Classification with Machine Learning**](../timeseries/mlts-classification.ipynb)<br>\n",
    "   How to classify time series data with machine learning.\n",
    "\n",
    "1. **Case: Machine Learning for Intrusion Detection in IT Security Logs**<br>\n",
    "\n",
    "   1. [**Introduction to Anomaly Detection**](../ml/ml-anomaly-detection-simple.ipynb)<br>\n",
    "      Detecting outliers using the IsolationForest algorithm.\n",
    "\n",
    "   2. [**Exercise: Anomaly Detection in IT Security Logs**](../ml/ml-exercise-anomaly-detection.ipynb)<br>\n",
    "      Try your hand at anomaly detection on log data.\n",
    "\n",
    "1. **[Predictive Maintenance](../ai/ai-predictive-maintenance.ipynb)**<br>\n",
    "   How to predict failures in industrial systems.\n",
    "\n",
    "   2. [**Open-ended Exercise: Predictive Maintenance**](../ai/ai-exercise-predictive-maintenance.ipynb)<br>\n",
    "      Predicting the remaining useful life of a turbofan engine.\n",
    "\n",
    "\n",
    "### Encore\n",
    "\n",
    "- [**AI Art**]()<br>\n",
    "  Having fun with text-to-image models.\n",
    "\n",
    "### Excursion\n",
    "\n",
    "- [**Explainable Deep Learning**](../dl/dl-explainable.ipynb)<br>\n",
    "   Are neural networks \"black boxes\"?\n",
    "\n"
   ]
  },
  {
   "cell_type": "markdown",
   "metadata": {},
   "source": [
    "### Additional Resources\n",
    "\n",
    "- [**Python Test Notebook**](../test.ipynb)<br>\n",
    "    Verify that your Python stack is working.\n",
    "    \n",
    "- [**TensorFlow Test Notebook**](../dl/dl-test.ipynb)<br>\n",
    "    Verify that your TensorFlow stack is working.\n",
    "    \n",
    "- [**Jupyter Cheat Sheet**](../jupyter/cheatsheet.ipynb)<br>\n",
    "    Some useful commands for Jupyter Notebook, mostly optional.\n"
   ]
  },
  {
   "cell_type": "markdown",
   "metadata": {},
   "source": [
    "---\n",
    "_This notebook is licensed under a [Creative Commons Attribution-NonCommercial-ShareAlike 4.0 International (CC BY-NC-SA 4.0)](https://creativecommons.org/licenses/by-nc-sa/4.0/). Copyright © 2022 [Christian Staudt](https://clstaudt.me)_"
   ]
  },
  {
   "cell_type": "markdown",
   "metadata": {},
   "source": []
  }
 ],
 "metadata": {
  "kernelspec": {
   "display_name": "Python 3 (ipykernel)",
   "language": "python",
   "name": "python3"
  },
  "language_info": {
   "codemirror_mode": {
    "name": "ipython",
    "version": 3
   },
   "file_extension": ".py",
   "mimetype": "text/x-python",
   "name": "python",
   "nbconvert_exporter": "python",
   "pygments_lexer": "ipython3",
   "version": "3.9.13"
  },
  "vscode": {
   "interpreter": {
    "hash": "8230f8769c668c567fa0bfc92e1f33442249cb35a608457cf81f184d81994cb2"
   }
  }
 },
 "nbformat": 4,
 "nbformat_minor": 4
}
