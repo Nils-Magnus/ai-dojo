{
 "cells": [
  {
   "cell_type": "markdown",
   "metadata": {},
   "source": [
    "## Current Developments in AI & their Application to Cloud Operations\n",
    "\n",
    "DESCRIPTION\n"
   ]
  },
  {
   "cell_type": "markdown",
   "metadata": {},
   "source": [
    "## Table of Contents\n",
    "\n",
    "### Introduction to Artificial Intelligence\n",
    "\n",
    "- history of AI\n",
    "- symbolic vs. connectionist AI\n",
    "- AI winters\n",
    "- ImageNet competition - breakthrough NN AlexNet\n",
    "- current AI summer: number of papers exploding, companies...\n",
    "- many modes of AI\n",
    "- AlphaGo: reinforcement learning\n",
    "- Generative Models: GANs, Stable Diffusion, \n",
    "  - 2015 generated faces\n",
    "\n",
    "\n",
    "### Introduction to Machine Learning\n",
    "\n",
    "1. [**Introduction to Machine Learning**](../ml/ml-outlook.ipynb)<br>\n",
    "    An overview of the field of machine learning.\n",
    "\n",
    "1. **[ML for Classification](../ml/ml-classification-intro.ipynb)**<br>\n",
    "      Learn about classifiers and how to measure the quality of their decisions.\n",
    "\n",
    "### Introduction to Deep Learning with Neural Networks\n",
    "\n",
    "1. [**Why Deep Learning?**](../dl/dl-why.ipynb)<br>\n",
    "   Neural networks explained step by step.\n",
    "\n",
    "1. [**Deep Learning Walkthrough**](../dl/dl-walkthrough.ipynb)<br>\n",
    "   Neural networks explained step by step.\n",
    "\n",
    "1. [**Image Classification with Convolutional Neural Networks**](../dl/dl-cnn-image-classification.ipynb)<br>\n",
    "   Applying convolutional architectures for image processing.\n",
    "\n",
    "   1. **Exercise: Image Classification with Convolutional Neural Networks**<br>\n",
    "      Try your hand at classifying images with a convolutional neural network.\n",
    "\n",
    "\n",
    "\n",
    "\n",
    "### Generative AI - powered by Language Models\n",
    "\n",
    "1. [**AI Coding Assistants: How they works**]()<br>\n",
    "   What is behind the intelligence of GitHub Copilot and others?\n",
    "\n",
    "### Towards AIOps: Using AI in IT Operations\n",
    "\n",
    "1. **Machine Learning for Intrusion Detection in IT Security Logs**<br>\n",
    "\n",
    "   1. [**Introduction to Anomaly Detection**](../ml/ml-anomaly-detection-simple.ipynb)<br>\n",
    "      Detecting outliers using the IsolationForest algorithm.\n",
    "\n",
    "   1. **Exercise: Anomaly Detection in IT Security Logs**<br>\n",
    "      Try your hand at anomaly detection on log data.\n",
    "\n",
    "2. ? [**Deep Learning for Anomaly Detection in Ops Time Series**]()<br>\n",
    "   Analyzing log files with artificial intelligence.\n",
    "\n",
    "- [ ] check existing material: machine learning on time series\n",
    "\n",
    "\n",
    "1. ? further ideas\n",
    " - ? help desk automation (language models)\n",
    "\n",
    "\n",
    "### (?) Minimizing Large AI Models\n",
    "\n",
    "\n",
    "### Digital Twin for the Cloud?\n",
    "\n",
    "- [ ] what is the difference to a staging environment?\n",
    "\n",
    "\n",
    "### Fun with midjourney.com\n",
    "\n",
    "\n",
    "\n",
    "### Exercises\n",
    "\n",
    "1. [**Exercise: Fashion Recognition**](../dl/dl-exercise-fashion-mnist.ipynb)<br>\n",
    "   Try your new deep learning skills on this data set.\n",
    "   \n"
   ]
  },
  {
   "cell_type": "markdown",
   "metadata": {},
   "source": [
    "### Exercise Solutions\n",
    "\n",
    "* [**Deep Learning Exercise Solutions**](../dl/dl-exercise-solutions.ipynb)"
   ]
  },
  {
   "cell_type": "markdown",
   "metadata": {},
   "source": [
    "### Additional Resources\n",
    "\n",
    "- [**Python Test Notebook**](../test.ipynb)<br>\n",
    "    Verify that your Python stack is working.\n",
    "    \n",
    "- [**TensorFlow Test Notebook**](../dl/dl-test.ipynb)<br>\n",
    "    Verify that your TensorFlow stack is working.\n",
    "    \n",
    "- [**Jupyter Cheat Sheet**](../jupyter/cheatsheet.ipynb)<br>\n",
    "    Some useful commands for Jupyter Notebook, mostly optional."
   ]
  },
  {
   "cell_type": "markdown",
   "metadata": {},
   "source": [
    "---\n",
    "_This notebook is licensed under a [Creative Commons Attribution-NonCommercial-ShareAlike 4.0 International (CC BY-NC-SA 4.0)](https://creativecommons.org/licenses/by-nc-sa/4.0/). Copyright © 2022 [Christian Staudt](https://clstaudt.me)_"
   ]
  }
 ],
 "metadata": {
  "kernelspec": {
   "display_name": "Python 3.10.6 ('ai-training')",
   "language": "python",
   "name": "python3"
  },
  "language_info": {
   "codemirror_mode": {
    "name": "ipython",
    "version": 3
   },
   "file_extension": ".py",
   "mimetype": "text/x-python",
   "name": "python",
   "nbconvert_exporter": "python",
   "pygments_lexer": "ipython3",
   "version": "3.10.6"
  },
  "vscode": {
   "interpreter": {
    "hash": "8230f8769c668c567fa0bfc92e1f33442249cb35a608457cf81f184d81994cb2"
   }
  }
 },
 "nbformat": 4,
 "nbformat_minor": 4
}
