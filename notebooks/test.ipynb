{
 "cells": [
  {
   "cell_type": "markdown",
   "metadata": {},
   "source": [
    "# Test Notebook"
   ]
  },
  {
   "cell_type": "markdown",
   "metadata": {},
   "source": [
    "## Test PyData Stack"
   ]
  },
  {
   "cell_type": "markdown",
   "metadata": {},
   "source": [
    "**This block tests whether Python, Jupyter and all packages required are installed properly and working.**\n",
    "\n",
    "Please run the cell below (select and press <kbd>SHIFT+ENTER</kbd>). You should see the following output on the last line: \n",
    "\n",
    "```python\n",
    "Congratulations, your Python stack is ready to go\n",
    "```"
   ]
  },
  {
   "cell_type": "code",
   "execution_count": 1,
   "metadata": {},
   "outputs": [
    {
     "name": "stdout",
     "output_type": "stream",
     "text": [
      "Your Python interpreter is ready. Your version: \n",
      "        3.9.13 | packaged by conda-forge | (main, May 27 2022, 17:00:33) \n",
      "[Clang 13.0.1 ]\n",
      "        \n",
      "Importing package failed: data_science_learning_paths\n",
      "\n",
      "Your Python stack is not ready, please check error messages above\n"
     ]
    }
   ],
   "source": [
    "fail = False\n",
    "try:\n",
    "    import sys\n",
    "    version_string = sys.version\n",
    "    version_parts = version_string.split(\".\")\n",
    "    major = int(version_parts[0])\n",
    "    minor = int(version_parts[1])\n",
    "    if (major) >= 3 and (minor >= 6):\n",
    "        print(f\"\"\"Your Python interpreter is ready. Your version: \n",
    "        {version_string}\n",
    "        \"\"\")\n",
    "    else:\n",
    "        print(f\"\"\"Your version of Python is older than required: \n",
    "            {version_string}\n",
    "        \"\"\")\n",
    "        fail = True\n",
    "except:\n",
    "    pass\n",
    "\n",
    "try:\n",
    "    import pandas\n",
    "except ImportError:\n",
    "    print(f\"\"\"Importing package failed: pandas\"\"\")\n",
    "    fail = True\n",
    "\n",
    "try:\n",
    "    import numpy\n",
    "except ImportError:\n",
    "    print(f\"\"\"Importing package failed: numpy\"\"\")\n",
    "    fail = True\n",
    "    \n",
    "try:\n",
    "    import matplotlib\n",
    "except ImportError:\n",
    "    print(f\"\"\"Importing package failed: matplotlib\"\"\")\n",
    "    fail = True\n",
    "    \n",
    "try:\n",
    "    import sklearn\n",
    "except ImportError:\n",
    "    print(f\"\"\"Importing package failed: sklearn\"\"\")\n",
    "    fail = True\n",
    "    \n",
    "try:\n",
    "    import data_science_learning_paths\n",
    "except ImportError:\n",
    "    print(f\"\"\"Importing package failed: data_science_learning_paths\"\"\")\n",
    "    fail = True\n",
    "\n",
    "if not fail:\n",
    "    print(\"\")\n",
    "    print(f\"\"\"Congratulations, your Python stack is ready to go\"\"\")\n",
    "else:\n",
    "    print(\"\")\n",
    "    print(\"Your Python stack is not ready, please check error messages above\")"
   ]
  },
  {
   "cell_type": "markdown",
   "metadata": {},
   "source": [
    "## Test TensorFlow Stack"
   ]
  },
  {
   "cell_type": "markdown",
   "metadata": {},
   "source": [
    "**This block tests whether TensorFlow and all packages required are installed properly and working.**\n",
    "\n",
    "Please run the cell below (select and press <kbd>SHIFT+ENTER</kbd>). You should see the following output on the last line: \n",
    "\n",
    "```python\n",
    "Congratulations, your TensorFlow stack is ready to go\n",
    "```"
   ]
  },
  {
   "cell_type": "code",
   "execution_count": 2,
   "metadata": {},
   "outputs": [
    {
     "name": "stdout",
     "output_type": "stream",
     "text": [
      "WARNING:tensorflow:From /var/folders/pl/9s2ysv_92pn6_2w7j2t40mh00000gn/T/ipykernel_51866/4176988380.py:23: is_gpu_available (from tensorflow.python.framework.test_util) is deprecated and will be removed in a future version.\n",
      "Instructions for updating:\n",
      "Use `tf.config.list_physical_devices('GPU')` instead.\n",
      "32/32 [==============================] - 0s 377us/step - loss: 0.2315\n",
      "\n",
      "Congratulations, your TensorFlow stack is ready to go\n",
      "GPU support is not available\n"
     ]
    },
    {
     "name": "stderr",
     "output_type": "stream",
     "text": [
      "2022-11-21 14:06:36.277434: W tensorflow/core/platform/profile_utils/cpu_utils.cc:128] Failed to get CPU frequency: 0 Hz\n"
     ]
    }
   ],
   "source": [
    "fail = False\n",
    "gpu_support = None\n",
    "\n",
    "try:\n",
    "    import tensorflow\n",
    "except ImportError:\n",
    "    print(f\"\"\"Importing package failed: tensorflow\"\"\")\n",
    "    fail = True\n",
    "\n",
    "try:\n",
    "    from tensorflow import keras\n",
    "except ImportError:\n",
    "    print(f\"\"\"Importing package failed: keras\"\"\")\n",
    "    fail = True\n",
    "    \n",
    "try:\n",
    "    import numpy\n",
    "except ImportError:\n",
    "    print(f\"\"\"Importing package failed: numpy\"\"\")\n",
    "    fail = True\n",
    "    \n",
    "try:\n",
    "    gpu_support = tensorflow.test.is_gpu_available()\n",
    "except:\n",
    "    print(\"testing GPU support failed\")\n",
    "    \n",
    "try:\n",
    "    # try fitting a minimal network\n",
    "    neuron = keras.models.Sequential(\n",
    "        [\n",
    "          keras.layers.Dense(\n",
    "              units=1, \n",
    "              input_shape=(1,),\n",
    "              activation=\"tanh\",\n",
    "              kernel_initializer=\"uniform\", \n",
    "            )  \n",
    "        ]\n",
    "    )\n",
    "    n = 1000\n",
    "    X = numpy.linspace(0.0, 1.0, n)\n",
    "    y = 0.8 * X + numpy.random.normal(0.0, 0.2, n)\n",
    "    neuron.compile(optimizer=\"adam\", loss=\"mse\")\n",
    "    neuron.fit(X, y, epochs=1)\n",
    "except Exception as ex:\n",
    "    print(ex)\n",
    "    print(\"training a minimal network failed\")\n",
    "    fail = True\n",
    "    \n",
    "\n",
    "if not fail:\n",
    "    print(\"\")\n",
    "    print(f\"\"\"Congratulations, your TensorFlow stack is ready to go\"\"\")\n",
    "else:\n",
    "    print(\"\")\n",
    "    print(\"Your TensorFlow stack is not ready, please check error messages above\")\n",
    "    \n",
    "\n",
    "if gpu_support:\n",
    "    print(\"GPU support is available\")\n",
    "else:\n",
    "    print(\"GPU support is not available\")"
   ]
  },
  {
   "cell_type": "markdown",
   "metadata": {},
   "source": [
    "---\n",
    "_This notebook is licensed under a [Creative Commons Attribution-NonCommercial-ShareAlike 4.0 International (CC BY-NC-SA 4.0)](https://creativecommons.org/licenses/by-nc-sa/4.0/). Copyright © 2018-2021 [Point 8 GmbH](https://point-8.de)_"
   ]
  }
 ],
 "metadata": {
  "kernelspec": {
   "display_name": "Python 3.9.13 ('ai-training')",
   "language": "python",
   "name": "python3"
  },
  "language_info": {
   "codemirror_mode": {
    "name": "ipython",
    "version": 3
   },
   "file_extension": ".py",
   "mimetype": "text/x-python",
   "name": "python",
   "nbconvert_exporter": "python",
   "pygments_lexer": "ipython3",
   "version": "3.9.13"
  },
  "vscode": {
   "interpreter": {
    "hash": "8230f8769c668c567fa0bfc92e1f33442249cb35a608457cf81f184d81994cb2"
   }
  }
 },
 "nbformat": 4,
 "nbformat_minor": 2
}
