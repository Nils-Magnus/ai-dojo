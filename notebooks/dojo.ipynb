{
 "cells": [
  {
   "cell_type": "markdown",
   "metadata": {
    "slideshow": {
     "slide_type": "slide"
    },
    "tags": []
   },
   "source": [
    "# Welcome to the AI Dojo\n",
    "\n",
    "> **_dōjō_ (道場, Japanese) -  a place for immersive learning. Literally, a place to learn the path (_dō_).**\n",
    "\n",
    "The AI Dojo is a place for learning about AI and Data Science. It is a place to learn about the tools, techniques, and best practices for building AI applications. \n",
    "\n",
    "Our approach to teaching is to provide a hands-on experience to get you started. For this we provide:\n",
    "- introductory material\n",
    "- code demos\n",
    "- interactive coding exercises"
   ]
  },
  {
   "cell_type": "markdown",
   "metadata": {},
   "source": [
    "## Introductions\n",
    "\n",
    "- **Introductions**"
   ]
  },
  {
   "cell_type": "markdown",
   "metadata": {},
   "source": [
    "## Paths\n",
    "\n",
    "### Machine Learning with Python [MLP]\n",
    "\n",
    "A 2-day intensive course enabling the participants to build machine learning applications with Python and the scikit-learn framework. We work on typical machine learning cases using hands-on examples.\n",
    "\n",
    "- **Level**: Intermediate\n",
    "- **Duration**: 2 days\n",
    "- **Prerequisites**: Python programming, basic data analysis with Python\n",
    "- **Index notebook**: [📓 Start course](index/mlp2-machine-learning-python-2day.ipynb)\n",
    "\n",
    "\n",
    "### Deep Learning with TensorFlow [DLT]\n",
    "\n",
    "Get started with neural networks and deep learning, applying the TensorFlow and Keras libraries.\n",
    "\n",
    "- **Level**: Intermediate\n",
    "- **Duration**: 2 days\n",
    "- **Prerequisites**: MLP\n",
    "- **Index notebook**: [📓 Start course](index/dlt2-intro-dl-tensorflow-2day.ipynb)"
   ]
  },
  {
   "cell_type": "markdown",
   "metadata": {},
   "source": [
    "## Special Paths\n",
    "\n",
    "### Current Developments in AI & Steps towards AIOps\n",
    "\n",
    "Explore current developments in AI and their application to cloud operations.\n",
    "\n",
    "- **Level**: Intermediate\n",
    "- **Duration**: 2 days\n",
    "- **Prerequisites**: Python programming\n",
    "- **Index notebook**: [📓 Start course](index/ai-current-operations.ipynb)\n"
   ]
  },
  {
   "cell_type": "markdown",
   "metadata": {},
   "source": [
    "### Additional Resources\n",
    "\n",
    "- [**Python Test Notebook**](../test.ipynb)<br>\n",
    "    Verify that your Python stack is working.\n",
    "    \n",
    "- [**TensorFlow Test Notebook**](../dl/dl-test.ipynb)<br>\n",
    "    Verify that your TensorFlow stack is working.\n",
    "    \n",
    "- [**Jupyter Cheat Sheet**](../jupyter/cheatsheet.ipynb)<br>\n",
    "    Some useful commands for Jupyter Notebook, mostly optional."
   ]
  },
  {
   "cell_type": "markdown",
   "metadata": {},
   "source": [
    "### Open Source \n",
    "\n",
    "**AI Dojo** is a descendant of [**Data Science Learning Paths**](https://github.com/point8/data-science-learning-paths). It is an open source project, and we welcome contributions."
   ]
  },
  {
   "cell_type": "markdown",
   "metadata": {},
   "source": [
    "---\n",
    "_This notebook is licensed under a [Creative Commons Attribution-NonCommercial-ShareAlike 4.0 International (CC BY-NC-SA 4.0)](https://creativecommons.org/licenses/by-nc-sa/4.0/). Copyright © 2022 [Christian Staudt](https://clstaudt.me)_"
   ]
  }
 ],
 "metadata": {
  "kernelspec": {
   "display_name": "Python 3 (ipykernel)",
   "language": "python",
   "name": "python3"
  },
  "language_info": {
   "codemirror_mode": {
    "name": "ipython",
    "version": 3
   },
   "file_extension": ".py",
   "mimetype": "text/x-python",
   "name": "python",
   "nbconvert_exporter": "python",
   "pygments_lexer": "ipython3",
   "version": "3.9.13"
  },
  "vscode": {
   "interpreter": {
    "hash": "8230f8769c668c567fa0bfc92e1f33442249cb35a608457cf81f184d81994cb2"
   }
  }
 },
 "nbformat": 4,
 "nbformat_minor": 4
}
