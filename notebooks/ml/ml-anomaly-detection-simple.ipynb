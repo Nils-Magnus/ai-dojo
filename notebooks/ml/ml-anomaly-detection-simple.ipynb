{
 "cells": [
  {
   "cell_type": "markdown",
   "id": "b9bf50b6-bc27-4ff8-871d-b293a2185cf2",
   "metadata": {},
   "source": [
    "# Anomaly Detection\n",
    "\n",
    "This chapter introduces you to the concept of **anomaly detection**.\n",
    "\n",
    "By the end of this chapter, you will...\n",
    "\n",
    "- be aware of real-world scenarios in which anomaly detection is used\n",
    "- understand how the definition of \"anomaly\" depends on the context\n",
    "- know different machine learning approaches to anomaly detection\n",
    "- know how to apply a versatile outlier detection algorithm "
   ]
  },
  {
   "cell_type": "markdown",
   "id": "6ac0cf92-b52e-4c5f-97aa-290e1a2bf3d6",
   "metadata": {},
   "source": [
    "## Preamble"
   ]
  },
  {
   "cell_type": "code",
   "execution_count": 1,
   "id": "646a7616-055d-4553-913b-a2f55127c846",
   "metadata": {},
   "outputs": [],
   "source": [
    "import seaborn\n",
    "import ai_dojo\n",
    "\n",
    "ai_dojo.setup_plot_style(dark=True)"
   ]
  },
  {
   "cell_type": "markdown",
   "id": "177347f2-15cb-4a8d-a465-0db39aa5f80c",
   "metadata": {},
   "source": [
    "## Real-World Scenarios\n",
    "\n",
    "Imagine yourself as a data scientist in the following scenarios:\n",
    "\n",
    "* **fraud detection in e-commerce**: You are working for an e-commerce business. While most users of your online shop are playing fair, a few are trying to get you to deliver stuff without paying for it. The site has thousands of customers per day, so how can you detect fraudulent transactions efficiently? Maybe there is something suspicious about those, something that makes them stand out from typical customer behavior...\n",
    "* **intrusion detection for cyber security**: You work for the IT security department. Your IT infrastructure is used by employees all over the world, but is also sometimes the target of hacker attacks. goal is to build a system that automatically raises an alert when a potential attack happens. Which behavior could it be that makes an intruder different from a normal user?\n",
    "* **predictive maintenance in the manufacturing industry**: To get ready for the \"Internet of things\", a manufacturing company has put lots of sensors in all of the production machines on the shop floor. Now you can measure temperature, vibration, noise, power consumption and many more variables over time. While production runs smoothly most of the time, it happens that a machine breaks down, halting production and requiring expensive and time-consuming repairs. What could be done with the sensor data to avoid such a scenario? Can you think of ways to detect a problem before things go up in flames?\n",
    "\n",
    "\n",
    "\n",
    "### Exercise\n",
    "\n",
    "_Choose one scenario, do some internet research on it, brainstorm and discuss ideas with your peers who also picked this scenario: How would you approach the use case?_\n",
    "\n"
   ]
  },
  {
   "cell_type": "markdown",
   "id": "83b6d92c-fc5e-46d6-89b8-1211300e4fe3",
   "metadata": {},
   "source": [
    "## What is normal?\n",
    "\n",
    "*Anomalies* are occurrences that deviate from the expected or \"normal\" case. This begs the question: What is normal? \n",
    "\n",
    "The honest answer: It depends. \"Anomaly detection\" is usually not well-defined.  The definition can vary strongly from use case to use case, and a thorough analysis of the use case is always necessary. Keep in mind that...\n",
    "- ...there is no anomaly detection without context: Statistically, we can say that a data point is far away from the rest - and then call it an  _outlier_.  However, whether this data point is an anomaly that we want to detect depends on the use case.\n",
    "- .... we should not expect to have a one-size-fits-all \"anomaly detection algorithm\" that can always be used out of the box.\n",
    "\n"
   ]
  },
  {
   "cell_type": "markdown",
   "id": "a781cddc-294c-441a-9df2-f5c68e4077b9",
   "metadata": {},
   "source": [
    "## Machine Learning for Anomaly Detection: Problem Settings\n",
    "\n",
    "Machine learning techniques can be relevant for anomaly detection. But before you choose an algorithm, consider three very different ways of setting up the problem for ML:\n",
    "\n",
    "1. **two-class supervised classification**: Data points in the training data are labeled as \"normal\" or \"anomaly\".\n",
    "2. **clean**: The training data contains only normal data points. The test data also contains anomalies.\n",
    "3. **unsupervised**: The training data contains a mix of normal and anomaly data points which are not labeled."
   ]
  },
  {
   "cell_type": "markdown",
   "id": "791e0ec4-896a-4ef6-b506-2c28851c7122",
   "metadata": {},
   "source": [
    "## Anomaly Detection through Outlier Detection\n",
    "\n",
    "In the following, we assume that we can recognize an anomaly as an **outlier** - that is, a data point whose values differ significantly from typical data points.\n",
    "\n",
    "###  Data Visualization\n",
    "\n",
    "Data visualization methods, such as box plots and scatter plots, can be helpful to spot outliers visually. \n",
    "\n",
    "\n",
    "### Automated Outlier Detection with the Isolation Forest Algorithm\n",
    "\n",
    "The Isolation Forest algorithm is a well-known method for identifying outliers in multi-dimensional datasets."
   ]
  },
  {
   "cell_type": "code",
   "execution_count": 2,
   "id": "02f6cb2f-b3ad-40dc-bf98-14581ccd02ff",
   "metadata": {},
   "outputs": [],
   "source": [
    "from sklearn.ensemble import IsolationForest"
   ]
  },
  {
   "cell_type": "code",
   "execution_count": 3,
   "id": "980bee69-75c6-4d6c-9924-ce0bc864c57e",
   "metadata": {},
   "outputs": [],
   "source": [
    "outlier_detector = IsolationForest()"
   ]
  },
  {
   "cell_type": "markdown",
   "id": "264fc315-4d00-4ccd-8060-923f2086acc1",
   "metadata": {},
   "source": [
    "We use an example data set from the real estate market. Our task is to identify unusual offerings."
   ]
  },
  {
   "cell_type": "code",
   "execution_count": 4,
   "id": "edeba87b-e886-4169-8542-ad8c440b1ee0",
   "metadata": {},
   "outputs": [
    {
     "name": "stderr",
     "output_type": "stream",
     "text": [
      "/Users/cls/Documents/Work/Projects/ExperTeach/AITelekomCloud/ai-training/library/ai_dojo/datasets.py:257: ParserWarning: Falling back to the 'python' engine because the 'c' engine does not support regex separators (separators > 1 char and different from '\\s+' are interpreted as regex); you can avoid this warning by specifying engine='python'.\n",
      "  data_descr = pandas.read_csv(descr_path, sep=\", \")\n"
     ]
    }
   ],
   "source": [
    "data, descr = ai_dojo.datasets.read_house_prices_seattle()"
   ]
  },
  {
   "cell_type": "code",
   "execution_count": 5,
   "id": "98580af3-1c97-4e71-862d-2c329dc18aaa",
   "metadata": {},
   "outputs": [
    {
     "data": {
      "text/html": [
       "<div>\n",
       "<style scoped>\n",
       "    .dataframe tbody tr th:only-of-type {\n",
       "        vertical-align: middle;\n",
       "    }\n",
       "\n",
       "    .dataframe tbody tr th {\n",
       "        vertical-align: top;\n",
       "    }\n",
       "\n",
       "    .dataframe thead th {\n",
       "        text-align: right;\n",
       "    }\n",
       "</style>\n",
       "<table border=\"1\" class=\"dataframe\">\n",
       "  <thead>\n",
       "    <tr style=\"text-align: right;\">\n",
       "      <th></th>\n",
       "      <th>column</th>\n",
       "      <th>description</th>\n",
       "    </tr>\n",
       "  </thead>\n",
       "  <tbody>\n",
       "    <tr>\n",
       "      <th>0</th>\n",
       "      <td>id</td>\n",
       "      <td>a notation for a house</td>\n",
       "    </tr>\n",
       "    <tr>\n",
       "      <th>1</th>\n",
       "      <td>date</td>\n",
       "      <td>house was sold</td>\n",
       "    </tr>\n",
       "    <tr>\n",
       "      <th>2</th>\n",
       "      <td>price</td>\n",
       "      <td>is prediction target</td>\n",
       "    </tr>\n",
       "    <tr>\n",
       "      <th>3</th>\n",
       "      <td>bedroomsNumber</td>\n",
       "      <td>of Bedrooms/House</td>\n",
       "    </tr>\n",
       "    <tr>\n",
       "      <th>4</th>\n",
       "      <td>bathroomsNumber</td>\n",
       "      <td>of bathrooms/bedrooms</td>\n",
       "    </tr>\n",
       "    <tr>\n",
       "      <th>5</th>\n",
       "      <td>sqft_livingsquare</td>\n",
       "      <td>footage of the home</td>\n",
       "    </tr>\n",
       "    <tr>\n",
       "      <th>6</th>\n",
       "      <td>sqft_lotsquare</td>\n",
       "      <td>footage of the lot</td>\n",
       "    </tr>\n",
       "    <tr>\n",
       "      <th>7</th>\n",
       "      <td>floorsTotal</td>\n",
       "      <td>floors (levels) in house</td>\n",
       "    </tr>\n",
       "    <tr>\n",
       "      <th>8</th>\n",
       "      <td>waterfrontHouse</td>\n",
       "      <td>which has a view to a waterfront</td>\n",
       "    </tr>\n",
       "    <tr>\n",
       "      <th>9</th>\n",
       "      <td>view</td>\n",
       "      <td>Has been viewed</td>\n",
       "    </tr>\n",
       "    <tr>\n",
       "      <th>10</th>\n",
       "      <td>condition</td>\n",
       "      <td>How good the condition is ( Overall )</td>\n",
       "    </tr>\n",
       "    <tr>\n",
       "      <th>11</th>\n",
       "      <td>gradeoverall</td>\n",
       "      <td>grade given to the housing unit based on King ...</td>\n",
       "    </tr>\n",
       "    <tr>\n",
       "      <th>12</th>\n",
       "      <td>sqft_abovesquare</td>\n",
       "      <td>footage of house apart from basement</td>\n",
       "    </tr>\n",
       "    <tr>\n",
       "      <th>13</th>\n",
       "      <td>sqft_basementsquare</td>\n",
       "      <td>footage of the basement</td>\n",
       "    </tr>\n",
       "    <tr>\n",
       "      <th>14</th>\n",
       "      <td>yr_builtBuilt</td>\n",
       "      <td>Year</td>\n",
       "    </tr>\n",
       "    <tr>\n",
       "      <th>15</th>\n",
       "      <td>yr_renovatedYear</td>\n",
       "      <td>when house was renovated</td>\n",
       "    </tr>\n",
       "    <tr>\n",
       "      <th>16</th>\n",
       "      <td>zipcodezip,</td>\n",
       "      <td>None</td>\n",
       "    </tr>\n",
       "    <tr>\n",
       "      <th>17</th>\n",
       "      <td>latLatitude</td>\n",
       "      <td>coordinate</td>\n",
       "    </tr>\n",
       "    <tr>\n",
       "      <th>18</th>\n",
       "      <td>longLongitude</td>\n",
       "      <td>coordinate</td>\n",
       "    </tr>\n",
       "    <tr>\n",
       "      <th>19</th>\n",
       "      <td>sqft_living15Living</td>\n",
       "      <td>room area in 2015(implies-- some renovations) ...</td>\n",
       "    </tr>\n",
       "    <tr>\n",
       "      <th>20</th>\n",
       "      <td>sqft_lot15lotSize</td>\n",
       "      <td>area in 2015(implies-- some renovations)</td>\n",
       "    </tr>\n",
       "  </tbody>\n",
       "</table>\n",
       "</div>"
      ],
      "text/plain": [
       "                 column                                        description\n",
       "0                    id                             a notation for a house\n",
       "1                  date                                     house was sold\n",
       "2                 price                               is prediction target\n",
       "3        bedroomsNumber                                  of Bedrooms/House\n",
       "4       bathroomsNumber                              of bathrooms/bedrooms\n",
       "5     sqft_livingsquare                                footage of the home\n",
       "6        sqft_lotsquare                                 footage of the lot\n",
       "7           floorsTotal                           floors (levels) in house\n",
       "8       waterfrontHouse                   which has a view to a waterfront\n",
       "9                  view                                    Has been viewed\n",
       "10            condition              How good the condition is ( Overall )\n",
       "11         gradeoverall  grade given to the housing unit based on King ...\n",
       "12     sqft_abovesquare               footage of house apart from basement\n",
       "13  sqft_basementsquare                            footage of the basement\n",
       "14        yr_builtBuilt                                               Year\n",
       "15     yr_renovatedYear                           when house was renovated\n",
       "16          zipcodezip,                                               None\n",
       "17          latLatitude                                         coordinate\n",
       "18        longLongitude                                         coordinate\n",
       "19  sqft_living15Living  room area in 2015(implies-- some renovations) ...\n",
       "20    sqft_lot15lotSize           area in 2015(implies-- some renovations)"
      ]
     },
     "execution_count": 5,
     "metadata": {},
     "output_type": "execute_result"
    }
   ],
   "source": [
    "descr"
   ]
  },
  {
   "cell_type": "code",
   "execution_count": 6,
   "id": "a23fd67d-7b6b-4059-a258-d420c94b2074",
   "metadata": {},
   "outputs": [
    {
     "data": {
      "text/html": [
       "<div>\n",
       "<style scoped>\n",
       "    .dataframe tbody tr th:only-of-type {\n",
       "        vertical-align: middle;\n",
       "    }\n",
       "\n",
       "    .dataframe tbody tr th {\n",
       "        vertical-align: top;\n",
       "    }\n",
       "\n",
       "    .dataframe thead th {\n",
       "        text-align: right;\n",
       "    }\n",
       "</style>\n",
       "<table border=\"1\" class=\"dataframe\">\n",
       "  <thead>\n",
       "    <tr style=\"text-align: right;\">\n",
       "      <th></th>\n",
       "      <th>id</th>\n",
       "      <th>date</th>\n",
       "      <th>price</th>\n",
       "      <th>bedrooms</th>\n",
       "      <th>bathrooms</th>\n",
       "      <th>sqft_living</th>\n",
       "      <th>sqft_lot</th>\n",
       "      <th>floors</th>\n",
       "      <th>waterfront</th>\n",
       "      <th>view</th>\n",
       "      <th>...</th>\n",
       "      <th>grade</th>\n",
       "      <th>sqft_above</th>\n",
       "      <th>sqft_basement</th>\n",
       "      <th>yr_built</th>\n",
       "      <th>yr_renovated</th>\n",
       "      <th>zipcode</th>\n",
       "      <th>lat</th>\n",
       "      <th>long</th>\n",
       "      <th>sqft_living15</th>\n",
       "      <th>sqft_lot15</th>\n",
       "    </tr>\n",
       "  </thead>\n",
       "  <tbody>\n",
       "    <tr>\n",
       "      <th>0</th>\n",
       "      <td>7129300520</td>\n",
       "      <td>2014-10-13</td>\n",
       "      <td>221900.0</td>\n",
       "      <td>3</td>\n",
       "      <td>1.00</td>\n",
       "      <td>1180</td>\n",
       "      <td>5650</td>\n",
       "      <td>1.0</td>\n",
       "      <td>0</td>\n",
       "      <td>0</td>\n",
       "      <td>...</td>\n",
       "      <td>7</td>\n",
       "      <td>1180</td>\n",
       "      <td>0</td>\n",
       "      <td>1955</td>\n",
       "      <td>0</td>\n",
       "      <td>98178</td>\n",
       "      <td>47.5112</td>\n",
       "      <td>-122.257</td>\n",
       "      <td>1340</td>\n",
       "      <td>5650</td>\n",
       "    </tr>\n",
       "    <tr>\n",
       "      <th>1</th>\n",
       "      <td>6414100192</td>\n",
       "      <td>2014-12-09</td>\n",
       "      <td>538000.0</td>\n",
       "      <td>3</td>\n",
       "      <td>2.25</td>\n",
       "      <td>2570</td>\n",
       "      <td>7242</td>\n",
       "      <td>2.0</td>\n",
       "      <td>0</td>\n",
       "      <td>0</td>\n",
       "      <td>...</td>\n",
       "      <td>7</td>\n",
       "      <td>2170</td>\n",
       "      <td>400</td>\n",
       "      <td>1951</td>\n",
       "      <td>1991</td>\n",
       "      <td>98125</td>\n",
       "      <td>47.7210</td>\n",
       "      <td>-122.319</td>\n",
       "      <td>1690</td>\n",
       "      <td>7639</td>\n",
       "    </tr>\n",
       "    <tr>\n",
       "      <th>2</th>\n",
       "      <td>5631500400</td>\n",
       "      <td>2015-02-25</td>\n",
       "      <td>180000.0</td>\n",
       "      <td>2</td>\n",
       "      <td>1.00</td>\n",
       "      <td>770</td>\n",
       "      <td>10000</td>\n",
       "      <td>1.0</td>\n",
       "      <td>0</td>\n",
       "      <td>0</td>\n",
       "      <td>...</td>\n",
       "      <td>6</td>\n",
       "      <td>770</td>\n",
       "      <td>0</td>\n",
       "      <td>1933</td>\n",
       "      <td>0</td>\n",
       "      <td>98028</td>\n",
       "      <td>47.7379</td>\n",
       "      <td>-122.233</td>\n",
       "      <td>2720</td>\n",
       "      <td>8062</td>\n",
       "    </tr>\n",
       "    <tr>\n",
       "      <th>3</th>\n",
       "      <td>2487200875</td>\n",
       "      <td>2014-12-09</td>\n",
       "      <td>604000.0</td>\n",
       "      <td>4</td>\n",
       "      <td>3.00</td>\n",
       "      <td>1960</td>\n",
       "      <td>5000</td>\n",
       "      <td>1.0</td>\n",
       "      <td>0</td>\n",
       "      <td>0</td>\n",
       "      <td>...</td>\n",
       "      <td>7</td>\n",
       "      <td>1050</td>\n",
       "      <td>910</td>\n",
       "      <td>1965</td>\n",
       "      <td>0</td>\n",
       "      <td>98136</td>\n",
       "      <td>47.5208</td>\n",
       "      <td>-122.393</td>\n",
       "      <td>1360</td>\n",
       "      <td>5000</td>\n",
       "    </tr>\n",
       "    <tr>\n",
       "      <th>4</th>\n",
       "      <td>1954400510</td>\n",
       "      <td>2015-02-18</td>\n",
       "      <td>510000.0</td>\n",
       "      <td>3</td>\n",
       "      <td>2.00</td>\n",
       "      <td>1680</td>\n",
       "      <td>8080</td>\n",
       "      <td>1.0</td>\n",
       "      <td>0</td>\n",
       "      <td>0</td>\n",
       "      <td>...</td>\n",
       "      <td>8</td>\n",
       "      <td>1680</td>\n",
       "      <td>0</td>\n",
       "      <td>1987</td>\n",
       "      <td>0</td>\n",
       "      <td>98074</td>\n",
       "      <td>47.6168</td>\n",
       "      <td>-122.045</td>\n",
       "      <td>1800</td>\n",
       "      <td>7503</td>\n",
       "    </tr>\n",
       "    <tr>\n",
       "      <th>...</th>\n",
       "      <td>...</td>\n",
       "      <td>...</td>\n",
       "      <td>...</td>\n",
       "      <td>...</td>\n",
       "      <td>...</td>\n",
       "      <td>...</td>\n",
       "      <td>...</td>\n",
       "      <td>...</td>\n",
       "      <td>...</td>\n",
       "      <td>...</td>\n",
       "      <td>...</td>\n",
       "      <td>...</td>\n",
       "      <td>...</td>\n",
       "      <td>...</td>\n",
       "      <td>...</td>\n",
       "      <td>...</td>\n",
       "      <td>...</td>\n",
       "      <td>...</td>\n",
       "      <td>...</td>\n",
       "      <td>...</td>\n",
       "      <td>...</td>\n",
       "    </tr>\n",
       "    <tr>\n",
       "      <th>21608</th>\n",
       "      <td>263000018</td>\n",
       "      <td>2014-05-21</td>\n",
       "      <td>360000.0</td>\n",
       "      <td>3</td>\n",
       "      <td>2.50</td>\n",
       "      <td>1530</td>\n",
       "      <td>1131</td>\n",
       "      <td>3.0</td>\n",
       "      <td>0</td>\n",
       "      <td>0</td>\n",
       "      <td>...</td>\n",
       "      <td>8</td>\n",
       "      <td>1530</td>\n",
       "      <td>0</td>\n",
       "      <td>2009</td>\n",
       "      <td>0</td>\n",
       "      <td>98103</td>\n",
       "      <td>47.6993</td>\n",
       "      <td>-122.346</td>\n",
       "      <td>1530</td>\n",
       "      <td>1509</td>\n",
       "    </tr>\n",
       "    <tr>\n",
       "      <th>21609</th>\n",
       "      <td>6600060120</td>\n",
       "      <td>2015-02-23</td>\n",
       "      <td>400000.0</td>\n",
       "      <td>4</td>\n",
       "      <td>2.50</td>\n",
       "      <td>2310</td>\n",
       "      <td>5813</td>\n",
       "      <td>2.0</td>\n",
       "      <td>0</td>\n",
       "      <td>0</td>\n",
       "      <td>...</td>\n",
       "      <td>8</td>\n",
       "      <td>2310</td>\n",
       "      <td>0</td>\n",
       "      <td>2014</td>\n",
       "      <td>0</td>\n",
       "      <td>98146</td>\n",
       "      <td>47.5107</td>\n",
       "      <td>-122.362</td>\n",
       "      <td>1830</td>\n",
       "      <td>7200</td>\n",
       "    </tr>\n",
       "    <tr>\n",
       "      <th>21610</th>\n",
       "      <td>1523300141</td>\n",
       "      <td>2014-06-23</td>\n",
       "      <td>402101.0</td>\n",
       "      <td>2</td>\n",
       "      <td>0.75</td>\n",
       "      <td>1020</td>\n",
       "      <td>1350</td>\n",
       "      <td>2.0</td>\n",
       "      <td>0</td>\n",
       "      <td>0</td>\n",
       "      <td>...</td>\n",
       "      <td>7</td>\n",
       "      <td>1020</td>\n",
       "      <td>0</td>\n",
       "      <td>2009</td>\n",
       "      <td>0</td>\n",
       "      <td>98144</td>\n",
       "      <td>47.5944</td>\n",
       "      <td>-122.299</td>\n",
       "      <td>1020</td>\n",
       "      <td>2007</td>\n",
       "    </tr>\n",
       "    <tr>\n",
       "      <th>21611</th>\n",
       "      <td>291310100</td>\n",
       "      <td>2015-01-16</td>\n",
       "      <td>400000.0</td>\n",
       "      <td>3</td>\n",
       "      <td>2.50</td>\n",
       "      <td>1600</td>\n",
       "      <td>2388</td>\n",
       "      <td>2.0</td>\n",
       "      <td>0</td>\n",
       "      <td>0</td>\n",
       "      <td>...</td>\n",
       "      <td>8</td>\n",
       "      <td>1600</td>\n",
       "      <td>0</td>\n",
       "      <td>2004</td>\n",
       "      <td>0</td>\n",
       "      <td>98027</td>\n",
       "      <td>47.5345</td>\n",
       "      <td>-122.069</td>\n",
       "      <td>1410</td>\n",
       "      <td>1287</td>\n",
       "    </tr>\n",
       "    <tr>\n",
       "      <th>21612</th>\n",
       "      <td>1523300157</td>\n",
       "      <td>2014-10-15</td>\n",
       "      <td>325000.0</td>\n",
       "      <td>2</td>\n",
       "      <td>0.75</td>\n",
       "      <td>1020</td>\n",
       "      <td>1076</td>\n",
       "      <td>2.0</td>\n",
       "      <td>0</td>\n",
       "      <td>0</td>\n",
       "      <td>...</td>\n",
       "      <td>7</td>\n",
       "      <td>1020</td>\n",
       "      <td>0</td>\n",
       "      <td>2008</td>\n",
       "      <td>0</td>\n",
       "      <td>98144</td>\n",
       "      <td>47.5941</td>\n",
       "      <td>-122.299</td>\n",
       "      <td>1020</td>\n",
       "      <td>1357</td>\n",
       "    </tr>\n",
       "  </tbody>\n",
       "</table>\n",
       "<p>21613 rows × 21 columns</p>\n",
       "</div>"
      ],
      "text/plain": [
       "               id       date     price  bedrooms  bathrooms  sqft_living  \\\n",
       "0      7129300520 2014-10-13  221900.0         3       1.00         1180   \n",
       "1      6414100192 2014-12-09  538000.0         3       2.25         2570   \n",
       "2      5631500400 2015-02-25  180000.0         2       1.00          770   \n",
       "3      2487200875 2014-12-09  604000.0         4       3.00         1960   \n",
       "4      1954400510 2015-02-18  510000.0         3       2.00         1680   \n",
       "...           ...        ...       ...       ...        ...          ...   \n",
       "21608   263000018 2014-05-21  360000.0         3       2.50         1530   \n",
       "21609  6600060120 2015-02-23  400000.0         4       2.50         2310   \n",
       "21610  1523300141 2014-06-23  402101.0         2       0.75         1020   \n",
       "21611   291310100 2015-01-16  400000.0         3       2.50         1600   \n",
       "21612  1523300157 2014-10-15  325000.0         2       0.75         1020   \n",
       "\n",
       "       sqft_lot  floors  waterfront  view  ...  grade  sqft_above  \\\n",
       "0          5650     1.0           0     0  ...      7        1180   \n",
       "1          7242     2.0           0     0  ...      7        2170   \n",
       "2         10000     1.0           0     0  ...      6         770   \n",
       "3          5000     1.0           0     0  ...      7        1050   \n",
       "4          8080     1.0           0     0  ...      8        1680   \n",
       "...         ...     ...         ...   ...  ...    ...         ...   \n",
       "21608      1131     3.0           0     0  ...      8        1530   \n",
       "21609      5813     2.0           0     0  ...      8        2310   \n",
       "21610      1350     2.0           0     0  ...      7        1020   \n",
       "21611      2388     2.0           0     0  ...      8        1600   \n",
       "21612      1076     2.0           0     0  ...      7        1020   \n",
       "\n",
       "       sqft_basement  yr_built  yr_renovated  zipcode      lat     long  \\\n",
       "0                  0      1955             0    98178  47.5112 -122.257   \n",
       "1                400      1951          1991    98125  47.7210 -122.319   \n",
       "2                  0      1933             0    98028  47.7379 -122.233   \n",
       "3                910      1965             0    98136  47.5208 -122.393   \n",
       "4                  0      1987             0    98074  47.6168 -122.045   \n",
       "...              ...       ...           ...      ...      ...      ...   \n",
       "21608              0      2009             0    98103  47.6993 -122.346   \n",
       "21609              0      2014             0    98146  47.5107 -122.362   \n",
       "21610              0      2009             0    98144  47.5944 -122.299   \n",
       "21611              0      2004             0    98027  47.5345 -122.069   \n",
       "21612              0      2008             0    98144  47.5941 -122.299   \n",
       "\n",
       "       sqft_living15  sqft_lot15  \n",
       "0               1340        5650  \n",
       "1               1690        7639  \n",
       "2               2720        8062  \n",
       "3               1360        5000  \n",
       "4               1800        7503  \n",
       "...              ...         ...  \n",
       "21608           1530        1509  \n",
       "21609           1830        7200  \n",
       "21610           1020        2007  \n",
       "21611           1410        1287  \n",
       "21612           1020        1357  \n",
       "\n",
       "[21613 rows x 21 columns]"
      ]
     },
     "execution_count": 6,
     "metadata": {},
     "output_type": "execute_result"
    }
   ],
   "source": [
    "data"
   ]
  },
  {
   "cell_type": "markdown",
   "id": "3a452b3f-386e-4291-9b7d-1e3ce3d0ec35",
   "metadata": {},
   "source": [
    "For simplicity, let us limit the data to a few important dimensions:"
   ]
  },
  {
   "cell_type": "code",
   "execution_count": 7,
   "id": "0bf222b5-6b55-430c-99c1-eac55bf4ae4f",
   "metadata": {},
   "outputs": [],
   "source": [
    "features = data[[\"price\", \"bedrooms\", \"bathrooms\", \"sqft_living\", \"sqft_lot\"]]"
   ]
  },
  {
   "cell_type": "markdown",
   "id": "318af253-b67b-40af-905e-8f13b93fbc6b",
   "metadata": {},
   "source": [
    "An outlier detector like the `IsolationForest` algorithm is a `sklearn` `Estimator` that can be fitted to data:"
   ]
  },
  {
   "cell_type": "code",
   "execution_count": 8,
   "id": "023b3a32-048e-479f-a8a6-07372ec81398",
   "metadata": {},
   "outputs": [
    {
     "data": {
      "text/html": [
       "<style>#sk-container-id-1 {color: black;background-color: white;}#sk-container-id-1 pre{padding: 0;}#sk-container-id-1 div.sk-toggleable {background-color: white;}#sk-container-id-1 label.sk-toggleable__label {cursor: pointer;display: block;width: 100%;margin-bottom: 0;padding: 0.3em;box-sizing: border-box;text-align: center;}#sk-container-id-1 label.sk-toggleable__label-arrow:before {content: \"▸\";float: left;margin-right: 0.25em;color: #696969;}#sk-container-id-1 label.sk-toggleable__label-arrow:hover:before {color: black;}#sk-container-id-1 div.sk-estimator:hover label.sk-toggleable__label-arrow:before {color: black;}#sk-container-id-1 div.sk-toggleable__content {max-height: 0;max-width: 0;overflow: hidden;text-align: left;background-color: #f0f8ff;}#sk-container-id-1 div.sk-toggleable__content pre {margin: 0.2em;color: black;border-radius: 0.25em;background-color: #f0f8ff;}#sk-container-id-1 input.sk-toggleable__control:checked~div.sk-toggleable__content {max-height: 200px;max-width: 100%;overflow: auto;}#sk-container-id-1 input.sk-toggleable__control:checked~label.sk-toggleable__label-arrow:before {content: \"▾\";}#sk-container-id-1 div.sk-estimator input.sk-toggleable__control:checked~label.sk-toggleable__label {background-color: #d4ebff;}#sk-container-id-1 div.sk-label input.sk-toggleable__control:checked~label.sk-toggleable__label {background-color: #d4ebff;}#sk-container-id-1 input.sk-hidden--visually {border: 0;clip: rect(1px 1px 1px 1px);clip: rect(1px, 1px, 1px, 1px);height: 1px;margin: -1px;overflow: hidden;padding: 0;position: absolute;width: 1px;}#sk-container-id-1 div.sk-estimator {font-family: monospace;background-color: #f0f8ff;border: 1px dotted black;border-radius: 0.25em;box-sizing: border-box;margin-bottom: 0.5em;}#sk-container-id-1 div.sk-estimator:hover {background-color: #d4ebff;}#sk-container-id-1 div.sk-parallel-item::after {content: \"\";width: 100%;border-bottom: 1px solid gray;flex-grow: 1;}#sk-container-id-1 div.sk-label:hover label.sk-toggleable__label {background-color: #d4ebff;}#sk-container-id-1 div.sk-serial::before {content: \"\";position: absolute;border-left: 1px solid gray;box-sizing: border-box;top: 0;bottom: 0;left: 50%;z-index: 0;}#sk-container-id-1 div.sk-serial {display: flex;flex-direction: column;align-items: center;background-color: white;padding-right: 0.2em;padding-left: 0.2em;position: relative;}#sk-container-id-1 div.sk-item {position: relative;z-index: 1;}#sk-container-id-1 div.sk-parallel {display: flex;align-items: stretch;justify-content: center;background-color: white;position: relative;}#sk-container-id-1 div.sk-item::before, #sk-container-id-1 div.sk-parallel-item::before {content: \"\";position: absolute;border-left: 1px solid gray;box-sizing: border-box;top: 0;bottom: 0;left: 50%;z-index: -1;}#sk-container-id-1 div.sk-parallel-item {display: flex;flex-direction: column;z-index: 1;position: relative;background-color: white;}#sk-container-id-1 div.sk-parallel-item:first-child::after {align-self: flex-end;width: 50%;}#sk-container-id-1 div.sk-parallel-item:last-child::after {align-self: flex-start;width: 50%;}#sk-container-id-1 div.sk-parallel-item:only-child::after {width: 0;}#sk-container-id-1 div.sk-dashed-wrapped {border: 1px dashed gray;margin: 0 0.4em 0.5em 0.4em;box-sizing: border-box;padding-bottom: 0.4em;background-color: white;}#sk-container-id-1 div.sk-label label {font-family: monospace;font-weight: bold;display: inline-block;line-height: 1.2em;}#sk-container-id-1 div.sk-label-container {text-align: center;}#sk-container-id-1 div.sk-container {/* jupyter's `normalize.less` sets `[hidden] { display: none; }` but bootstrap.min.css set `[hidden] { display: none !important; }` so we also need the `!important` here to be able to override the default hidden behavior on the sphinx rendered scikit-learn.org. See: https://github.com/scikit-learn/scikit-learn/issues/21755 */display: inline-block !important;position: relative;}#sk-container-id-1 div.sk-text-repr-fallback {display: none;}</style><div id=\"sk-container-id-1\" class=\"sk-top-container\"><div class=\"sk-text-repr-fallback\"><pre>IsolationForest()</pre><b>In a Jupyter environment, please rerun this cell to show the HTML representation or trust the notebook. <br />On GitHub, the HTML representation is unable to render, please try loading this page with nbviewer.org.</b></div><div class=\"sk-container\" hidden><div class=\"sk-item\"><div class=\"sk-estimator sk-toggleable\"><input class=\"sk-toggleable__control sk-hidden--visually\" id=\"sk-estimator-id-1\" type=\"checkbox\" checked><label for=\"sk-estimator-id-1\" class=\"sk-toggleable__label sk-toggleable__label-arrow\">IsolationForest</label><div class=\"sk-toggleable__content\"><pre>IsolationForest()</pre></div></div></div></div></div>"
      ],
      "text/plain": [
       "IsolationForest()"
      ]
     },
     "execution_count": 8,
     "metadata": {},
     "output_type": "execute_result"
    }
   ],
   "source": [
    "outlier_detector.fit(features)"
   ]
  },
  {
   "cell_type": "markdown",
   "id": "92e1f08b-952e-4ce5-b287-cc3cfdd2c988",
   "metadata": {},
   "source": [
    "The \"predictions\" of the outlier detector come in the form of scores, which are actually \"normality\" scores: The higher the score, the more splits were needed by this decision-tree based algorithm to isolate the data point. Hence, anomalous points have lower scores than normal points."
   ]
  },
  {
   "cell_type": "code",
   "execution_count": 9,
   "id": "b6a4bf06-81bc-4524-b325-3b8c77942265",
   "metadata": {},
   "outputs": [],
   "source": [
    "normality_scores = outlier_detector.decision_function(features)"
   ]
  },
  {
   "cell_type": "markdown",
   "id": "6a6fc56b-df4a-4fa1-9969-233a8d38ce03",
   "metadata": {},
   "source": [
    "We can confirm that normal points are more frequent than anomalous points:"
   ]
  },
  {
   "cell_type": "code",
   "execution_count": 10,
   "id": "6026df93-bd4f-4b56-9f6f-7ff2acfdf55e",
   "metadata": {},
   "outputs": [
    {
     "data": {
      "text/plain": [
       "<seaborn.axisgrid.FacetGrid at 0x14bdd74c0>"
      ]
     },
     "execution_count": 10,
     "metadata": {},
     "output_type": "execute_result"
    },
    {
     "data": {
      "image/png": "[encoded data removed]",
      "text/plain": [
       "<Figure size 500x500 with 1 Axes>"
      ]
     },
     "metadata": {},
     "output_type": "display_data"
    }
   ],
   "source": [
    "seaborn.displot(normality_scores)"
   ]
  },
  {
   "cell_type": "markdown",
   "id": "0ab9e01f-ca08-4147-97e1-721e3b6534d2",
   "metadata": {},
   "source": [
    "Now let us visalize the normality scores in a scatterplot to get a better picture of what the score expressses."
   ]
  },
  {
   "cell_type": "code",
   "execution_count": 11,
   "id": "ae20b4ba-43e0-4e8b-9a46-b7282ecde708",
   "metadata": {},
   "outputs": [
    {
     "name": "stderr",
     "output_type": "stream",
     "text": [
      "/var/folders/pl/9s2ysv_92pn6_2w7j2t40mh00000gn/T/ipykernel_95070/1588521855.py:1: SettingWithCopyWarning: \n",
      "A value is trying to be set on a copy of a slice from a DataFrame.\n",
      "Try using .loc[row_indexer,col_indexer] = value instead\n",
      "\n",
      "See the caveats in the documentation: https://pandas.pydata.org/pandas-docs/stable/user_guide/indexing.html#returning-a-view-versus-a-copy\n",
      "  features[\"score\"] = normality_scores\n"
     ]
    }
   ],
   "source": [
    "features[\"score\"] = normality_scores"
   ]
  },
  {
   "cell_type": "code",
   "execution_count": 12,
   "id": "40f258a9-7900-468b-8062-6217a58fd588",
   "metadata": {},
   "outputs": [
    {
     "data": {
      "text/plain": [
       "<seaborn.axisgrid.PairGrid at 0x14cb7e7a0>"
      ]
     },
     "execution_count": 12,
     "metadata": {},
     "output_type": "execute_result"
    }
   ],
   "source": [
    "seaborn.pairplot(\n",
    "    features.sample(n=500),\n",
    "    hue=\"score\"\n",
    ")"
   ]
  },
  {
   "cell_type": "markdown",
   "id": "06f67db2-e366-4795-b7fc-d07fe153d399",
   "metadata": {},
   "source": [
    "## Summary\n",
    "\n",
    "\n",
    "- Anomaly detection covers a wide range of applications, and the definition of \"anomaly\" should always be carefully examined in the context of the use case. \n",
    "- Be aware of the different ways of framing anomaly detection as a machine learning task. Again, which one to choose depends on the use case and the available data.\n",
    "- Often (but not always), anomalies are _outlier data points_. Machine learning algorithms like _Isolation Forest_ provide a robust way of detecting such outliers. \n",
    "\n"
   ]
  },
  {
   "cell_type": "markdown",
   "id": "7c212947-3b7a-4c01-87ba-8d3019167575",
   "metadata": {},
   "source": [
    "## Resources\n",
    "\n",
    "- [Talk: Anomaly Detection - at PyData London 2018](https://www.youtube.com/watch?v=B5mPqFOx09U) -  \"There is no anomaly without context\"\n",
    "- [Talk: Introduction to the Isolation Forest Algorithm](https://youtu.be/RyFQXQf4w4w)\n",
    "- [Talk: Unsupervised Anomaly Detection with Isolation Forest - Elena Sharova at PyData London 2018](https://youtu.be/5p8B2Ikcw-k)\n"
   ]
  },
  {
   "cell_type": "markdown",
   "id": "75310831-8a79-47a5-a817-567120ca22ee",
   "metadata": {
    "tags": []
   },
   "source": [
    "---\n",
    "_This notebook is licensed under a [Creative Commons Attribution-NonCommercial-ShareAlike 4.0 International (CC BY-NC-SA 4.0)](https://creativecommons.org/licenses/by-nc-sa/4.0/). Copyright © 2018-2021 [Point 8 GmbH](https://point-8.de)_"
   ]
  }
 ],
 "metadata": {
  "kernelspec": {
   "display_name": "Python 3.10.6 ('ai-training')",
   "language": "python",
   "name": "python3"
  },
  "language_info": {
   "codemirror_mode": {
    "name": "ipython",
    "version": 3
   },
   "file_extension": ".py",
   "mimetype": "text/x-python",
   "name": "python",
   "nbconvert_exporter": "python",
   "pygments_lexer": "ipython3",
   "version": "3.10.6"
  },
  "vscode": {
   "interpreter": {
    "hash": "8230f8769c668c567fa0bfc92e1f33442249cb35a608457cf81f184d81994cb2"
   }
  }
 },
 "nbformat": 4,
 "nbformat_minor": 5
}
